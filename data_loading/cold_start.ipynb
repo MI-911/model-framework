{
 "cells": [
  {
   "cell_type": "code",
   "execution_count": 26,
   "metadata": {
    "collapsed": true,
    "pycharm": {
     "is_executing": false
    }
   },
   "outputs": [
    {
     "name": "stdout",
     "text": [
      "        Unnamed: 0                                userId  \\\n",
      "0                0  d50f84c0-17cd-11ea-bd9f-33d41a12d743   \n",
      "1                1  d50f84c0-17cd-11ea-bd9f-33d41a12d743   \n",
      "2                2  d50f84c0-17cd-11ea-bd9f-33d41a12d743   \n",
      "3                3  d50f84c0-17cd-11ea-bd9f-33d41a12d743   \n",
      "4                4  d50f84c0-17cd-11ea-bd9f-33d41a12d743   \n",
      "...            ...                                   ...   \n",
      "102136      102136  b41d5180-18bc-11ea-9dab-c3faade56b4f   \n",
      "102137      102137  b41d5180-18bc-11ea-9dab-c3faade56b4f   \n",
      "102138      102138  b41d5180-18bc-11ea-9dab-c3faade56b4f   \n",
      "102139      102139  b41d5180-18bc-11ea-9dab-c3faade56b4f   \n",
      "102140      102140  b41d5180-18bc-11ea-9dab-c3faade56b4f   \n",
      "\n",
      "                                            uri  isItem  sentiment  \n",
      "0        http://www.wikidata.org/entity/Q637842    True          1  \n",
      "1        http://www.wikidata.org/entity/Q221075    True          1  \n",
      "2        http://www.wikidata.org/entity/Q471839   False          1  \n",
      "3       http://www.wikidata.org/entity/Q1342372   False          1  \n",
      "4       http://www.wikidata.org/entity/Q2484376   False          1  \n",
      "...                                         ...     ...        ...  \n",
      "102136   http://www.wikidata.org/entity/Q922512    True         -1  \n",
      "102137    http://www.wikidata.org/entity/Q74958    True         -1  \n",
      "102138   http://www.wikidata.org/entity/Q969059    True         -1  \n",
      "102139  http://www.wikidata.org/entity/Q4984974   False         -1  \n",
      "102140   http://www.wikidata.org/entity/Q748851    True         -1  \n",
      "\n",
      "[34070 rows x 5 columns]\n",
      "        Unnamed: 0                                userId  \\\n",
      "183            183  b37d53a0-16dd-11ea-b6e7-71d2a14be534   \n",
      "184            184  b37d53a0-16dd-11ea-b6e7-71d2a14be534   \n",
      "185            185  b37d53a0-16dd-11ea-b6e7-71d2a14be534   \n",
      "186            186  b37d53a0-16dd-11ea-b6e7-71d2a14be534   \n",
      "187            187  b37d53a0-16dd-11ea-b6e7-71d2a14be534   \n",
      "...            ...                                   ...   \n",
      "102095      102095  a9c96110-180d-11ea-96d2-b7577a2d1a3d   \n",
      "102096      102096  a9c96110-180d-11ea-96d2-b7577a2d1a3d   \n",
      "102097      102097  a9c96110-180d-11ea-96d2-b7577a2d1a3d   \n",
      "102098      102098  a9c96110-180d-11ea-96d2-b7577a2d1a3d   \n",
      "102099      102099  a9c96110-180d-11ea-96d2-b7577a2d1a3d   \n",
      "\n",
      "                                            uri  isItem  sentiment  \n",
      "183      http://www.wikidata.org/entity/Q165394    True          1  \n",
      "184      http://www.wikidata.org/entity/Q162492   False          1  \n",
      "185      http://www.wikidata.org/entity/Q380981    True          1  \n",
      "186     http://www.wikidata.org/entity/Q1265087    True          1  \n",
      "187      http://www.wikidata.org/entity/Q488335   False          1  \n",
      "...                                         ...     ...        ...  \n",
      "102095   http://www.wikidata.org/entity/Q243983    True         -1  \n",
      "102096   http://www.wikidata.org/entity/Q312078    True         -1  \n",
      "102097  http://www.wikidata.org/entity/Q1286387    True         -1  \n",
      "102098   http://www.wikidata.org/entity/Q218235    True         -1  \n",
      "102099   http://www.wikidata.org/entity/Q189600    True         -1  \n",
      "\n",
      "[10780 rows x 5 columns]\n",
      "44850\n"
     ],
     "output_type": "stream"
    }
   ],
   "source": [
    "import pandas as pd\n",
    "import random\n",
    "\n",
    "# Ratio of users to consider in warm start setting\n",
    "include_unknown = False\n",
    "warm_start_ratio = 0.75\n",
    "\n",
    "ratings = pd.read_csv(f'mindreader/ratings-mr100k.csv')\n",
    "if not include_unknown:\n",
    "    ratings = ratings[ratings.sentiment != 0]\n",
    "\n",
    "users = ratings['userId'].unique()\n",
    "random.shuffle(users)\n",
    "\n",
    "# Partition into warm and cold start users\n",
    "num_warm_start = int(len(users) * warm_start_ratio)\n",
    "warm_start_users = set(users[:num_warm_start])\n",
    "cold_start_users = set(users[num_warm_start:])\n",
    "\n",
    "assert warm_start_users.isdisjoint(cold_start_users)\n",
    "\n",
    "# Partition ratings\n",
    "warm_ratings = ratings[ratings.userId.isin(warm_start_users)]\n",
    "cold_ratings = ratings[ratings.userId.isin(cold_start_users)]\n"
   ]
  }
 ],
 "metadata": {
  "kernelspec": {
   "display_name": "Python 3",
   "language": "python",
   "name": "python3"
  },
  "language_info": {
   "codemirror_mode": {
    "name": "ipython",
    "version": 2
   },
   "file_extension": ".py",
   "mimetype": "text/x-python",
   "name": "python",
   "nbconvert_exporter": "python",
   "pygments_lexer": "ipython2",
   "version": "2.7.6"
  },
  "pycharm": {
   "stem_cell": {
    "cell_type": "raw",
    "source": [],
    "metadata": {
     "collapsed": false
    }
   }
  }
 },
 "nbformat": 4,
 "nbformat_minor": 0
}