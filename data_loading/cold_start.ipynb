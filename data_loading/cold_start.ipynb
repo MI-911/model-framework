{
 "cells": [
  {
   "cell_type": "code",
   "execution_count": 27,
   "metadata": {
    "collapsed": true,
    "pycharm": {
     "is_executing": false
    }
   },
   "outputs": [],
   "source": [
    "import pandas as pd\n",
    "import random\n",
    "\n",
    "# Ratio of users to consider in warm start setting\n",
    "include_unknown = False\n",
    "warm_start_ratio = 0.75\n",
    "\n",
    "ratings = pd.read_csv(f'mindreader/ratings-mr100k.csv')\n",
    "if not include_unknown:\n",
    "    ratings = ratings[ratings.sentiment != 0]\n",
    "\n",
    "users = ratings['userId'].unique()\n",
    "random.shuffle(users)\n",
    "\n",
    "# Partition into warm and cold start users\n",
    "num_warm_start = int(len(users) * warm_start_ratio)\n",
    "warm_start_users = set(users[:num_warm_start])\n",
    "cold_start_users = set(users[num_warm_start:])\n",
    "\n",
    "assert warm_start_users.isdisjoint(cold_start_users)\n",
    "\n",
    "# Partition ratings\n",
    "warm_ratings = ratings[ratings.userId.isin(warm_start_users)]\n",
    "cold_ratings = ratings[ratings.userId.isin(cold_start_users)]\n",
    "\n",
    "assert len(warm_ratings) + len(cold_ratings) == len(ratings)"
   ]
  }
 ],
 "metadata": {
  "kernelspec": {
   "display_name": "Python 3",
   "language": "python",
   "name": "python3"
  },
  "language_info": {
   "codemirror_mode": {
    "name": "ipython",
    "version": 2
   },
   "file_extension": ".py",
   "mimetype": "text/x-python",
   "name": "python",
   "nbconvert_exporter": "python",
   "pygments_lexer": "ipython2",
   "version": "2.7.6"
  },
  "pycharm": {
   "stem_cell": {
    "cell_type": "raw",
    "source": [],
    "metadata": {
     "collapsed": false
    }
   }
  }
 },
 "nbformat": 4,
 "nbformat_minor": 0
}