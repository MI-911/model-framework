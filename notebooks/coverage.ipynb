{
 "cells": [
  {
   "cell_type": "code",
   "execution_count": 1,
   "metadata": {
    "collapsed": true,
    "pycharm": {
     "is_executing": false
    }
   },
   "outputs": [],
   "source": [
    "import pandas as pd \n",
    "import numpy as np\n",
    "import matplotlib.pyplot as plt\n",
    "\n",
    "ratings = pd.read_csv(f'../data_loading/mindreader/ratings.csv')\n",
    "\n",
    "uri_ratings = ratings[['uri', 'userId']].groupby('uri').count()\n",
    "uri_ratings.columns = ['ratings']\n",
    "\n",
    "real_ratings = ratings[ratings.sentiment != 0][['uri', 'userId']].groupby('uri').count()\n",
    "real_ratings.columns = ['ratings']\n",
    "\n",
    "entities = pd.read_csv(f'../data_loading/mindreader/entities.csv')\n",
    "entities.labels = entities.labels.str.split('|')\n",
    "entities['all_ratings'] = entities.uri.isin(uri_ratings.index)\n",
    "entities['real_ratings'] = entities.uri.isin(real_ratings.index)"
   ]
  },
  {
   "cell_type": "code",
   "execution_count": 2,
   "outputs": [
    {
     "name": "stdout",
     "text": [
      "1.0\n1.0\n1.0\n1.0\n0.9999999999999999\n",
      "{'Decade': {'frac_uncovered': 0.0, 'frac_all': 0.0, 'frac_real': 1.0, 'entities': 10}, 'Category': {'frac_uncovered': 0.2305084745762712, 'frac_all': 0.07457627118644068, 'frac_real': 0.6949152542372882, 'entities': 295}, 'Movie': {'frac_uncovered': 0.04129554655870445, 'frac_all': 0.34898785425101214, 'frac_real': 0.6097165991902834, 'entities': 4940}, 'Company': {'frac_uncovered': 0.33814432989690724, 'frac_all': 0.27628865979381445, 'frac_real': 0.38556701030927837, 'entities': 485}, 'Person': {'frac_uncovered': 0.6918394081837096, 'frac_all': 0.1857902442783386, 'frac_real': 0.12237034753795176, 'entities': 12977}}\n"
     ],
     "output_type": "stream"
    },
    {
     "data": {
      "text/plain": "<Figure size 432x288 with 1 Axes>",
      "image/png": "[encoded data removed]"
     },
     "metadata": {
      "needs_background": "light"
     },
     "output_type": "display_data"
    }
   ],
   "source": [
    "def has_label(label):\n",
    "    return entities[entities.labels.apply(lambda item: label in item)]\n",
    "\n",
    "groups =['Decade', 'Category', 'Movie', 'Company', 'Person']\n",
    "group_statistics = dict()\n",
    "\n",
    "for group in groups:\n",
    "    df = has_label(group)\n",
    "    \n",
    "    num_e = len(df)\n",
    "    num_a = len(df[df.all_ratings & ~df.real_ratings])\n",
    "    num_u = len(df[~df.all_ratings & ~df.real_ratings])\n",
    "    num_r = len(df[df.real_ratings])\n",
    "    \n",
    "    frac_u = num_u / num_e\n",
    "    frac_a = num_a / num_e\n",
    "    frac_r = num_r / num_e\n",
    "    \n",
    "    group_statistics[group] = {\n",
    "        'frac_uncovered': frac_u,\n",
    "        'frac_all': frac_a,\n",
    "        'frac_real': frac_r,\n",
    "        'entities': num_e\n",
    "    }\n",
    "    \n",
    "    print(frac_u + frac_a + frac_r)\n",
    "    \n",
    "# Get entities\n",
    "num_entities = [group_statistics[group]['frac_uncovered'] for group in groups]\n",
    "num_rated_all = [group_statistics[group]['frac_all'] for group in groups]\n",
    "num_rated_real = [group_statistics[group]['frac_real'] for group in groups]\n",
    "\n",
    "num_entities = np.array(num_entities)\n",
    "num_rated_all = np.array(num_rated_all)\n",
    "num_rated_real = np.array(num_rated_real)\n",
    "\n",
    "groups = [f'{group}\\n({group_statistics[group][\"entities\"]:,})' for group in groups]\n",
    "w = 0.35\n",
    "plt.bar(groups, num_entities, width=0.5, bottom=num_rated_all + num_rated_real)\n",
    "plt.bar(groups, num_rated_all, width=0.5, bottom=num_rated_real)\n",
    "plt.bar(groups, num_rated_real, width=0.5)\n",
    "\n",
    "plt.legend(['No observations', '\"Don\\'t know\" observation', 'Binary rating'], loc='best')\n",
    "plt.ylabel('Fraction')\n",
    "#plt.title('Coverage of entity types')\n",
    "plt.savefig('coverage.pdf', bbox_inches='tight')\n",
    "plt.show()\n",
    "print(group_statistics)"
   ],
   "metadata": {
    "collapsed": false,
    "pycharm": {
     "name": "#%%\n",
     "is_executing": false
    }
   }
  }
 ],
 "metadata": {
  "kernelspec": {
   "display_name": "Python 3",
   "language": "python",
   "name": "python3"
  },
  "language_info": {
   "codemirror_mode": {
    "name": "ipython",
    "version": 2
   },
   "file_extension": ".py",
   "mimetype": "text/x-python",
   "name": "python",
   "nbconvert_exporter": "python",
   "pygments_lexer": "ipython2",
   "version": "2.7.6"
  },
  "pycharm": {
   "stem_cell": {
    "cell_type": "raw",
    "source": [],
    "metadata": {
     "collapsed": false
    }
   }
  }
 },
 "nbformat": 4,
 "nbformat_minor": 0
}