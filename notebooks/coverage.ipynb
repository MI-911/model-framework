{
 "cells": [
  {
   "cell_type": "code",
   "execution_count": 62,
   "metadata": {
    "collapsed": true,
    "pycharm": {
     "is_executing": false
    }
   },
   "outputs": [],
   "source": [
    "import pandas as pd \n",
    "import numpy as np\n",
    "import matplotlib.pyplot as plt\n",
    "\n",
    "ratings = pd.read_csv(f'../data_loading/mindreader/ratings.csv')\n",
    "\n",
    "uri_ratings = ratings[['uri', 'userId']].groupby('uri').count()\n",
    "uri_ratings.columns = ['ratings']\n",
    "\n",
    "real_ratings = ratings[ratings.sentiment != 0][['uri', 'userId']].groupby('uri').count()\n",
    "real_ratings.columns = ['ratings']\n",
    "\n",
    "entities = pd.read_csv(f'../data_loading/mindreader/entities.csv')\n",
    "entities.labels = entities.labels.str.split('|')\n",
    "entities['all_ratings'] = entities.uri.isin(uri_ratings.index)\n",
    "entities['real_ratings'] = entities.uri.isin(real_ratings.index)"
   ]
  },
  {
   "cell_type": "code",
   "execution_count": 101,
   "outputs": [
    {
     "name": "stdout",
     "text": [
      "1.0\n1.0\n1.0\n1.0\n1.0\n",
      "{'Decade': {'num_entities': 0.0, 'num_rated_all': 0.0, 'num_rated_real': 1.0}, 'Category': {'num_entities': 0.2305084745762712, 'num_rated_all': 0.07457627118644068, 'num_rated_real': 0.6949152542372882}, 'Movie': {'num_entities': 0.04129554655870445, 'num_rated_all': 0.34898785425101214, 'num_rated_real': 0.6097165991902834}, 'Company': {'num_entities': 0.33814432989690724, 'num_rated_all': 0.27628865979381445, 'num_rated_real': 0.38556701030927837}, 'Person': {'num_entities': 0.6917623487709024, 'num_rated_all': 0.18571318486553132, 'num_rated_real': 0.12252446636356631}}\n"
     ],
     "output_type": "stream"
    },
    {
     "data": {
      "text/plain": "<Figure size 432x288 with 1 Axes>",
      "image/png": "[encoded data removed]"
     },
     "metadata": {
      "needs_background": "light"
     },
     "output_type": "display_data"
    }
   ],
   "source": [
    "def has_label(label):\n",
    "    return entities[entities.labels.apply(lambda item: label in item)]\n",
    "\n",
    "groups =['Decade', 'Category', 'Movie', 'Company', 'Person']\n",
    "group_statistics = dict()\n",
    "\n",
    "for group in groups:\n",
    "    df = has_label(group)\n",
    "    \n",
    "    num_e = len(df)\n",
    "    num_a = len(df[df.all_ratings & ~df.real_ratings])\n",
    "    num_u = len(df[~df.all_ratings & ~df.real_ratings])\n",
    "    num_r = len(df[df.real_ratings])\n",
    "    \n",
    "    frac_u = num_u / num_e\n",
    "    frac_a = num_a / num_e\n",
    "    frac_r = num_r / num_e\n",
    "    \n",
    "    group_statistics[group] = {\n",
    "        'num_entities': frac_u,\n",
    "        'num_rated_all': frac_a,\n",
    "        'num_rated_real': frac_r,\n",
    "    }\n",
    "    \n",
    "    print(frac_u + frac_a + frac_r)\n",
    "    \n",
    "# Get entities\n",
    "num_entities = [group_statistics[group]['num_entities'] for group in groups]\n",
    "num_rated_all = [group_statistics[group]['num_rated_all'] for group in groups]\n",
    "num_rated_real = [group_statistics[group]['num_rated_real'] for group in groups]\n",
    "\n",
    "num_entities = np.array(num_entities)\n",
    "num_rated_all = np.array(num_rated_all)\n",
    "num_rated_real = np.array(num_rated_real)\n",
    "w = 0.35\n",
    "plt.bar(groups, num_entities, width=0.5, bottom=num_rated_all + num_rated_real)\n",
    "plt.bar(groups, num_rated_all, width=0.5, bottom=num_rated_real)\n",
    "plt.bar(groups, num_rated_real, width=0.5)\n",
    "\n",
    "plt.legend(['Uncovered', 'Unknown rating', 'Binary rating'], loc='best')\n",
    "plt.ylabel('Fraction')\n",
    "plt.title('Coverage on entity types')\n",
    "plt.savefig('coverage.png')\n",
    "plt.show()\n",
    "print(group_statistics)"
   ],
   "metadata": {
    "collapsed": false,
    "pycharm": {
     "name": "#%%\n",
     "is_executing": false
    }
   }
  }
 ],
 "metadata": {
  "kernelspec": {
   "display_name": "Python 3",
   "language": "python",
   "name": "python3"
  },
  "language_info": {
   "codemirror_mode": {
    "name": "ipython",
    "version": 2
   },
   "file_extension": ".py",
   "mimetype": "text/x-python",
   "name": "python",
   "nbconvert_exporter": "python",
   "pygments_lexer": "ipython2",
   "version": "2.7.6"
  },
  "pycharm": {
   "stem_cell": {
    "cell_type": "raw",
    "source": [],
    "metadata": {
     "collapsed": false
    }
   }
  }
 },
 "nbformat": 4,
 "nbformat_minor": 0
}