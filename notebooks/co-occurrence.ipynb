{
 "cells": [
  {
   "cell_type": "code",
   "source": [
    "import pandas as pd\n",
    "import matplotlib.pyplot as plt\n",
    "from matplotlib.ticker import MultipleLocator, FormatStrFormatter, AutoMinorLocator\n",
    "import numpy as np\n",
    "from tqdm.notebook import tqdm_notebook\n",
    "base_path = '../data'"
   ],
   "metadata": {
    "collapsed": false,
    "pycharm": {
     "name": "#%% \n",
     "is_executing": false
    }
   },
   "execution_count": 4,
   "outputs": []
  },
  {
   "cell_type": "code",
   "execution_count": 6,
   "outputs": [
    {
     "name": "stdout",
     "text": [
      "100836\n",
      "60894136\n",
      "30396650\n",
      "13157672\n",
      "181\n"
     ],
     "output_type": "stream"
    },
    {
     "data": {
      "text/plain": "<Figure size 432x288 with 1 Axes>",
      "image/png": "[encoded data removed]"
     },
     "metadata": {
      "needs_background": "light"
     },
     "output_type": "display_data"
    }
   ],
   "source": [
    "ratings = pd.read_csv(f'{base_path}/ratings_movielens.csv')\n",
    "\n",
    "u_e = ratings[['userId', 'movieId']]\n",
    "print(len(u_e))\n",
    "pairs = pd.merge(u_e, u_e, on='userId', how='outer')\n",
    "print(len(pairs))\n",
    "pairs = pairs[pairs.movieId_x < pairs.movieId_y]\n",
    "print(len(pairs))\n",
    "pairs = pairs.groupby(['movieId_x', 'movieId_y']).size().reset_index().rename(columns={0:'n_co-rated'})\n",
    "print(len(pairs))\n",
    "pairs = pairs[['n_co-rated']].groupby(['n_co-rated']).size().reset_index().rename(columns={0:'t'})\n",
    "print(len(pairs))\n",
    "pairs = pairs[20:]\n",
    "plt.bar(pairs['n_co-rated'], pairs['t'])\n",
    "plt.show()\n"
   ],
   "metadata": {
    "collapsed": false,
    "pycharm": {
     "name": "#%%\n",
     "is_executing": false
    }
   }
  },
  {
   "cell_type": "code",
   "execution_count": 3,
   "outputs": [
    {
     "name": "stdout",
     "text": [
      "100836\n",
      "2911932\n    userId_x  movieId  userId_y\n1          1        1         5\n2          1        1         7\n3          1        1        15\n4          1        1        17\n5          1        1        18\n6          1        1        19\n7          1        1        21\n8          1        1        27\n9          1        1        31\n10         1        1        32\n         userId_x  movieId  userId_y\n420951          1      333         2\n2051117         1     3578         2\n",
      "164054\n   userId_x  userId_y  n_co-rated\n0         1         2           2\n1         1         3           7\n2         1         4          45\n3         1         5          13\n4         1         6          33\n5         1         7          26\n6         1         8          15\n7         1         9           5\n8         1        10           6\n9         1        11          16\n490\n   n_co-rated      t\n0           1  18010\n1           2  14895\n2           3  12373\n3           4  10574\n4           5   9027\n5           6   7599\n6           7   6735\n7           8   6036\n8           9   5432\n9          10   4783\n"
     ],
     "output_type": "stream"
    },
    {
     "data": {
      "text/plain": "<Figure size 432x288 with 1 Axes>",
      "image/png": "[encoded data removed]"
     },
     "metadata": {
      "needs_background": "light"
     },
     "output_type": "display_data"
    }
   ],
   "source": [
    "ratings = pd.read_csv(f'{base_path}/ratings_movielens.csv')\n",
    "\n",
    "movie_column = 'movieId'\n",
    "\n",
    "u_e = ratings[['userId', movie_column]]\n",
    "print(len(u_e))\n",
    "\n",
    "pairs = pd.merge(u_e, u_e, on=movie_column, how='outer')\n",
    "pairs = pairs[pairs.userId_x < pairs.userId_y]\n",
    "print(len(pairs))\n",
    "print(pairs[:10])\n",
    "print(pairs[(pairs['userId_x'] == 1) & (pairs['userId_y'] == 2)])\n",
    "pairs = pairs.groupby(['userId_x', 'userId_y']).size().reset_index().rename(columns={0:'n_co-rated'})\n",
    "p_average = pairs['n_co-rated'].mean()\n",
    "p_median = pairs['n_co-rated'].median()\n",
    "print(len(pairs))\n",
    "\n",
    "print(pairs[:10])\n",
    "pairs = pairs[['n_co-rated']].groupby(['n_co-rated']).size().reset_index().rename(columns={0:'t'})\n",
    "print(len(pairs))\n",
    "print(pairs[:10])\n",
    "pairs =pairs[:88]\n",
    "fig, axes = plt.subplots(nrows=1)\n",
    "axes.grid(True, 'major', 'y')\n",
    "\n",
    "axes.xaxis.set_major_locator(MultipleLocator(6))\n",
    "axes.xaxis.set_major_formatter(FormatStrFormatter('%d'))\n",
    "axes.xaxis.set_minor_locator(MultipleLocator(3))\n",
    "\n",
    "\n",
    "axes.yaxis.set_major_locator(MultipleLocator(4000))\n",
    "axes.yaxis.set_major_formatter(FormatStrFormatter('%d'))\n",
    "axes.yaxis.set_minor_locator(MultipleLocator(2000))\n",
    "\n",
    "axes.set_xlabel('Number of co-rated items')\n",
    "axes.set_ylabel('Total number of pairs')\n",
    "axes.set_axisbelow(True)\n",
    "\n",
    "plt.bar(pairs['n_co-rated'], pairs['t'], color='orange')\n",
    "plt.axvline(p_average, color='k', linestyle='dashed', linewidth=1)\n",
    "plt.axvline(p_median, color='k', linestyle='dashdot', linewidth=1)\n",
    "axes.set_xlim([0, None])\n",
    "plt.title('MovieLens' if movie_column == 'movieId' else 'MindReader')\n",
    "\n",
    "plt.savefig('co-occurance-user.pdf', bbox_inches='tight')\n",
    "\n",
    "plt.show()\n"
   ],
   "metadata": {
    "collapsed": false,
    "pycharm": {
     "name": "#%%\n",
     "is_executing": false
    }
   }
  },
  {
   "cell_type": "code",
   "execution_count": 31,
   "outputs": [
    {
     "name": "stdout",
     "text": [
      "18159\n",
      "449259\n",
      "215550\n",
      "                                userId_x  \\\n",
      "1   d50f84c0-17cd-11ea-bd9f-33d41a12d743   \n",
      "16  455efd70-17a4-11ea-8763-bfd426adb937   \n",
      "17  455efd70-17a4-11ea-8763-bfd426adb937   \n",
      "19  455efd70-17a4-11ea-8763-bfd426adb937   \n",
      "20  455efd70-17a4-11ea-8763-bfd426adb937   \n",
      "21  455efd70-17a4-11ea-8763-bfd426adb937   \n",
      "22  455efd70-17a4-11ea-8763-bfd426adb937   \n",
      "24  a8cc8f50-17b1-11ea-9b51-43c37697ee3a   \n",
      "25  a8cc8f50-17b1-11ea-9b51-43c37697ee3a   \n",
      "28  a8cc8f50-17b1-11ea-9b51-43c37697ee3a   \n",
      "\n",
      "                                       uri  \\\n",
      "1   http://www.wikidata.org/entity/Q105801   \n",
      "16  http://www.wikidata.org/entity/Q105801   \n",
      "17  http://www.wikidata.org/entity/Q105801   \n",
      "19  http://www.wikidata.org/entity/Q105801   \n",
      "20  http://www.wikidata.org/entity/Q105801   \n",
      "21  http://www.wikidata.org/entity/Q105801   \n",
      "22  http://www.wikidata.org/entity/Q105801   \n",
      "24  http://www.wikidata.org/entity/Q105801   \n",
      "25  http://www.wikidata.org/entity/Q105801   \n",
      "28  http://www.wikidata.org/entity/Q105801   \n",
      "\n",
      "                                userId_y  \n",
      "1   e3fc03a0-17cd-11ea-9a37-5bbd45b0c493  \n",
      "16  d50f84c0-17cd-11ea-bd9f-33d41a12d743  \n",
      "17  e3fc03a0-17cd-11ea-9a37-5bbd45b0c493  \n",
      "19  a8cc8f50-17b1-11ea-9b51-43c37697ee3a  \n",
      "20  bd1e3b30-17a1-11ea-bb14-d399a101b912  \n",
      "21  74692700-17b1-11ea-ac05-35f4a3140bf0  \n",
      "22  79367960-1d4a-11ea-9709-e50a2900cdd6  \n",
      "24  d50f84c0-17cd-11ea-bd9f-33d41a12d743  \n",
      "25  e3fc03a0-17cd-11ea-9a37-5bbd45b0c493  \n",
      "28  bd1e3b30-17a1-11ea-bb14-d399a101b912  \n",
      "Empty DataFrame\n",
      "Columns: [userId_x, uri, userId_y]\n",
      "Index: []\n",
      "151428\n",
      "                               userId_x                              userId_y  \\\n",
      "0  001230d0-17d0-11ea-b564-49261c2a71d6  00e71b90-17a5-11ea-929e-df9f59b35c39   \n",
      "1  001230d0-17d0-11ea-b564-49261c2a71d6  016c22b0-17a8-11ea-ab9e-d34a21313ddc   \n",
      "2  001230d0-17d0-11ea-b564-49261c2a71d6  0316dbc0-17c4-11ea-b399-f1b6a294bbbd   \n",
      "3  001230d0-17d0-11ea-b564-49261c2a71d6  05a0c180-17f1-11ea-a49d-cd5fcb092c04   \n",
      "4  001230d0-17d0-11ea-b564-49261c2a71d6  05a9f800-17eb-11ea-a935-3755276d68a9   \n",
      "5  001230d0-17d0-11ea-b564-49261c2a71d6  0c7e4c90-17b3-11ea-836b-27d0d7140ea1   \n",
      "6  001230d0-17d0-11ea-b564-49261c2a71d6  0eb9dd10-1855-11ea-9b9c-27b0c9077125   \n",
      "7  001230d0-17d0-11ea-b564-49261c2a71d6  0ed2b300-2a6e-11ea-ba95-cb0206700518   \n",
      "8  001230d0-17d0-11ea-b564-49261c2a71d6  0ed73f70-17ad-11ea-b54b-93566a874bdd   \n",
      "9  001230d0-17d0-11ea-b564-49261c2a71d6  0fbd2b70-17d5-11ea-ad5b-a35251078520   \n",
      "\n",
      "   n_co-rated  \n",
      "0           1  \n",
      "1           1  \n",
      "2           1  \n",
      "3           1  \n",
      "4           1  \n",
      "5           1  \n",
      "6           1  \n",
      "7           1  \n",
      "8           1  \n",
      "9           1  \n"
     ],
     "output_type": "stream"
    },
    {
     "data": {
      "text/plain": "<Figure size 432x288 with 1 Axes>",
      "image/png": "[encoded data removed]"
     },
     "metadata": {
      "needs_background": "light"
     },
     "output_type": "display_data"
    },
    {
     "data": {
      "text/plain": "<Figure size 432x288 with 1 Axes>",
      "image/png": "[encoded data removed]"
     },
     "metadata": {
      "needs_background": "light"
     },
     "output_type": "display_data"
    }
   ],
   "source": [
    "ratings = pd.read_csv(f'{base_path}/ratings.csv')\n",
    "ratings = ratings[ratings.sentiment != 0]\n",
    "ratings = ratings[ratings.isItem]\n",
    "\n",
    "movie_column = 'uri'\n",
    "groupon = 'userId'\n",
    "\n",
    "u_e = ratings[['userId', movie_column]]\n",
    "print(len(u_e))\n",
    "\n",
    "pairs = pd.merge(u_e, u_e, on=('userId' if groupon == movie_column else movie_column), how='outer')\n",
    "del u_e\n",
    "print(len(pairs))\n",
    "pairs = pairs[pairs[f'{groupon}_x'] < pairs[f'{groupon}_y']]\n",
    "print(len(pairs))\n",
    "print(pairs[:10])\n",
    "print(pairs[(pairs[f'{groupon}_x'] == 1) & (pairs[f'{groupon}_y'] == 2)])\n",
    "pairs = pairs.groupby([f'{groupon}_x', f'{groupon}_y']).size().reset_index().rename(columns={0:'n_co-rated'})\n",
    "p_average = pairs['n_co-rated'].mean()\n",
    "print(len(pairs))\n",
    "\n",
    "print(pairs[:10])\n",
    "pairs = pairs[['n_co-rated']].groupby(['n_co-rated']).size().reset_index().rename(columns={0:'t'})\n",
    "#pairs =pairs[:88]\n",
    "\n",
    "plt.plot(pairs['n_co-rated'], pairs['t'], color='orange')\n",
    "plt.show()\n",
    "fig, axes = plt.subplots(nrows=1)\n",
    "axes.grid(True, 'major', 'y')\n",
    "\n",
    "#axes.set_yscale('log')\n",
    "#axes.set_xscale('log')\n",
    "\n",
    "axes.set_xlabel('Number of users who co-rated an item' if groupon != movie_column else 'Number of item-pairs rated by a single user')\n",
    "axes.set_ylabel('Total number of pairs')\n",
    "axes.set_axisbelow(True)\n",
    "\n",
    "plt.plot(pairs['n_co-rated'], pairs['t'], color='orange')\n",
    "plt.plot(pairs['n_co-rated'], pairs['t'], color='blue')\n",
    "plt.axvline(p_average, color='k', linestyle='dashed', linewidth=1, label=f'Average: {p_average:.2f}')\n",
    "axes.set_xlim([0.5, 10])\n",
    "plt.title('MovieLens' if movie_column == 'movieId' else 'MindReader')\n",
    "plt.legend()\n",
    "\n",
    "fig_name = f\"co-occurrence-{'user' if groupon == movie_column else 'movie'}-{'movielens' if movie_column != 'uri' else 'mindreader'}.pdf\"\n",
    "plt.savefig(fig_name, bbox_inches='tight')\n",
    "\n",
    "plt.show()\n"
   ],
   "metadata": {
    "collapsed": false,
    "pycharm": {
     "name": "#%%\n",
     "is_executing": false
    }
   }
  }
 ],
 "metadata": {
  "kernelspec": {
   "display_name": "Python 3",
   "language": "python",
   "name": "python3"
  },
  "language_info": {
   "codemirror_mode": {
    "name": "ipython",
    "version": 2
   },
   "file_extension": ".py",
   "mimetype": "text/x-python",
   "name": "python",
   "nbconvert_exporter": "python",
   "pygments_lexer": "ipython2",
   "version": "2.7.6"
  },
  "pycharm": {
   "stem_cell": {
    "cell_type": "raw",
    "source": [],
    "metadata": {
     "collapsed": false
    }
   }
  }
 },
 "nbformat": 4,
 "nbformat_minor": 0
}