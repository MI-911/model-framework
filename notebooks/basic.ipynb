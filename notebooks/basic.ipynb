{
 "cells": [
  {
   "cell_type": "code",
   "execution_count": 11,
   "metadata": {
    "collapsed": true,
    "pycharm": {
     "is_executing": false
    }
   },
   "outputs": [],
   "source": [
    "import json\n",
    "import numpy as np\n",
    "import pandas as pd\n"
   ]
  },
  {
   "cell_type": "code",
   "execution_count": 34,
   "outputs": [
    {
     "name": "stdout",
     "text": [
      "   User  Entity Rating\n0   150    9041      1\n1   150    7780      1\n2   150    2519      1\n3   150    3721      1\n4   150   13294      1\n5   150   12745      1\n6   150   18069      1\n7   150    1493      1\n8   150    9760      1\n9   150    2064      1\n{'0', '-1', '1'}\n"
     ],
     "output_type": "stream"
    }
   ],
   "source": [
    "# Load data mindreader data\n",
    "with open('../data_loading/mindreader/ratings_clean.json', 'r') as f:\n",
    "    ratings_json = np.array(json.load(f))\n",
    "    \n",
    "with open('../data_loading/mindreader/entities_clean.json', 'r') as f:\n",
    "    entity_json = np.array(json.load(f))\n",
    "\n",
    "user_idx = {user: idx for idx, user in enumerate(set(ratings_json[:, 0]))}\n",
    "item_idx = {item: idx for idx, item in enumerate(set(entity_json[:, 0]))}\n",
    "idx_item = {idx: item for item, idx in item_idx.items()}\n",
    "idx_movie = {item_idx[movie]: movie for movie, _, t in entity_json if t == 'Movie'}\n",
    "\n",
    "ratings = {}\n",
    "ratings['User'] = [user_idx[user] for user in ratings_json[:, 0]]\n",
    "ratings['Entity'] = [item_idx[item] for item in ratings_json[:, 1]]\n",
    "ratings['Rating'] = list(ratings_json[:, 2])\n",
    "\n",
    "df = pd.DataFrame.from_dict(ratings)\n",
    "\n",
    "print(df[:10])\n",
    "print(set(df['Rating']))"
   ],
   "metadata": {
    "collapsed": false,
    "pycharm": {
     "name": "#%%\n",
     "is_executing": false
    }
   }
  },
  {
   "cell_type": "code",
   "execution_count": 35,
   "outputs": [],
   "source": [
    "# Remove dont knows from mindreader\n",
    "df = df[df['Rating'] != '0']"
   ],
   "metadata": {
    "collapsed": false,
    "pycharm": {
     "name": "#%%\n",
     "is_executing": false
    }
   }
  },
  {
   "cell_type": "code",
   "execution_count": 37,
   "outputs": [
    {
     "name": "stdout",
     "text": [
      "18106\n22827\n954\n954\n3022\n1997\n0.628028975493481\n1.1981809191775084\n0.8548856066026668\n"
     ],
     "output_type": "stream"
    }
   ],
   "source": [
    "# Process mindreader data \n",
    "df_re = df[df['Entity'].isin(idx_movie)]\n",
    "df_de = df[~df['Entity'].isin(idx_movie)]\n",
    "\n",
    "# Number ratings\n",
    "n_re_r = len(df_re)\n",
    "n_de_r = len(df_de)\n",
    "print(n_re_r)\n",
    "print(n_de_r)\n",
    "\n",
    "# Number users\n",
    "n_re_u = len(set(df_re['User']))\n",
    "n_de_u = len(set(df_de['User']))\n",
    "print(n_re_u)\n",
    "print(n_de_u)\n",
    "\n",
    "# Number entities\n",
    "n_re_e = len(set(df_re['Entity']))\n",
    "n_de_e = len(set(df_de['Entity']))\n",
    "print(n_re_e)\n",
    "print(n_de_e)\n",
    "\n",
    "# Den entities\n",
    "d_re = n_re_r / (n_re_u * n_re_e) * 100\n",
    "d_de = n_de_r / (n_de_u * n_de_e) * 100\n",
    "print(d_re)\n",
    "print(d_de)\n",
    "\n",
    "print((n_re_r + n_de_r) / (n_re_u * (n_re_e + n_de_e)) * 100)"
   ],
   "metadata": {
    "collapsed": false,
    "pycharm": {
     "name": "#%%\n",
     "is_executing": false
    }
   }
  },
  {
   "cell_type": "code",
   "execution_count": null,
   "outputs": [],
   "source": [
    "# Load MovieLens data\n",
    "\n"
   ],
   "metadata": {
    "collapsed": false,
    "pycharm": {
     "name": "#%%\n"
    }
   }
  }
 ],
 "metadata": {
  "kernelspec": {
   "display_name": "Python 3",
   "language": "python",
   "name": "python3"
  },
  "language_info": {
   "codemirror_mode": {
    "name": "ipython",
    "version": 2
   },
   "file_extension": ".py",
   "mimetype": "text/x-python",
   "name": "python",
   "nbconvert_exporter": "python",
   "pygments_lexer": "ipython2",
   "version": "2.7.6"
  },
  "pycharm": {
   "stem_cell": {
    "cell_type": "raw",
    "source": [],
    "metadata": {
     "collapsed": false
    }
   }
  }
 },
 "nbformat": 4,
 "nbformat_minor": 0
}