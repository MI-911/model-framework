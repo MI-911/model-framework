{
 "cells": [
  {
   "cell_type": "code",
   "execution_count": 8,
   "metadata": {
    "collapsed": true,
    "pycharm": {
     "is_executing": false
    }
   },
   "outputs": [
    {
     "name": "stdout",
     "text": [
      "len(ratings)=100836\n",
      "len(ratings)=80253\n",
      "len(ratings)=75630\n"
     ],
     "output_type": "stream"
    }
   ],
   "source": [
    "import pandas as pd\n",
    "import json\n",
    "\n",
    "def get_sentiment(rating):\n",
    "    if rating > 3:\n",
    "        return 1\n",
    "    elif rating < 3:\n",
    "        return -1\n",
    "    \n",
    "    return None\n",
    "\n",
    "def get_uri(movie_id):\n",
    "    return None\n",
    "\n",
    "def transform_imdb_id(imdb_id):\n",
    "    return f'tt{str(imdb_id).zfill(7)}'\n",
    "\n",
    "\n",
    "ratings = pd.read_csv('../data/ratings_movielens.csv')\n",
    "print(f'{len(ratings)=}')\n",
    "\n",
    "links = pd.read_csv(f'../data/links.csv')\n",
    "mapping = pd.read_csv(f'../data/mapping.csv')\n",
    "\n",
    "ratings = ratings.merge(links, on='movieId')\n",
    "ratings.imdbId = ratings.imdbId.map(transform_imdb_id)\n",
    "ratings = ratings.merge(mapping, on='imdbId')\n",
    "\n",
    "ratings['sentiment'] = ratings.rating.transform(get_sentiment)\n",
    "# ratings['uri'] = ratings.movieId.transform(get_uri)\n",
    "ratings['isItem'] = True\n",
    "ratings.drop(columns=['rating', 'timestamp', 'tmdbId', 'imdbId', 'movieId'], inplace=True)\n",
    "ratings.dropna(inplace=True)\n",
    "print(f'{len(ratings)=}')\n",
    "\n",
    "entities = pd.read_csv('../data_loading/mindreader/entities.csv')\n",
    "ratings = ratings.merge(entities, on='uri')\n",
    "print(f'{len(ratings)=}')\n",
    "\n",
    "with open('../data/ml_transformed.csv', 'w') as fp:\n",
    "    fp.write(ratings.to_csv(index=False))\n",
    "\n",
    "rating_list = list()\n",
    "\n",
    "for index, row in ratings.iterrows():\n",
    "    rating_list.append((str(row.userId), row.uri, row.sentiment))\n",
    "\n",
    "with open('../data/ml_ratings.json', 'w') as fp:\n",
    "    json.dump(rating_list, fp)"
   ]
  }
 ],
 "metadata": {
  "kernelspec": {
   "display_name": "Python 3",
   "language": "python",
   "name": "python3"
  },
  "language_info": {
   "codemirror_mode": {
    "name": "ipython",
    "version": 2
   },
   "file_extension": ".py",
   "mimetype": "text/x-python",
   "name": "python",
   "nbconvert_exporter": "python",
   "pygments_lexer": "ipython2",
   "version": "2.7.6"
  },
  "pycharm": {
   "stem_cell": {
    "cell_type": "raw",
    "source": [],
    "metadata": {
     "collapsed": false
    }
   }
  }
 },
 "nbformat": 4,
 "nbformat_minor": 0
}