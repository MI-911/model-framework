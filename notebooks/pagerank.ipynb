{
 "cells": [
  {
   "cell_type": "code",
   "execution_count": 5,
   "metadata": {
    "collapsed": true,
    "pycharm": {
     "is_executing": false
    }
   },
   "outputs": [
    {
     "name": "stdout",
     "text": [
      "The autoreload extension is already loaded. To reload it, use:\n  %reload_ext autoreload\n",
      "Init dataloader with 38182 ratings\n \n            DataLoader Information\n            -----------------------------------\n            n_users:                      932\n            n_movies:                     1975\n            n_descriptive_entities:       1044\n\n            n_ratings:                    38182\n            n_movie_ratings:              16723\n            n_descriptive_entity_ratings: 21459\n        \n",
      "Asserting positive samples not in training set for each user...\nAsserting negative samples occurrence in training set, but not rated for each user...\n",
      "Asserting positive samples do not occur in negative samples...\nReturning a dataset over 930 users.\n"
     ],
     "output_type": "stream"
    }
   ],
   "source": [
    "%load_ext autoreload\n",
    "%autoreload 2\n",
    "\n",
    "from data_loading.loo_data_loader import DesignatedDataLoader\n",
    "data_loader = DesignatedDataLoader.load_from(\n",
    "    path='../data_loading/mindreader',\n",
    "    movies_only=False,\n",
    "    min_num_entity_ratings=2,\n",
    "    filter_unknowns=True\n",
    ")\n",
    "\n",
    "data_loader.random_seed = 12\n",
    "\n",
    "print(data_loader.info())\n",
    "\n",
    "train, validation, test = data_loader.make(\n",
    "    movie_to_entity_ratio=1,\n",
    "    n_negative_samples=100\n",
    ")"
   ]
  },
  {
   "cell_type": "code",
   "execution_count": null,
   "outputs": [],
   "source": [
    "import matplotlib.pyplot as plt\n",
    "from models.pagerank.collaborative_pagerank_recommender import CollaborativePageRankRecommender\n",
    "\n",
    "from models.pagerank.joint_pagerank_recommender import JointPageRankRecommender\n",
    "from models.pagerank.kg_pagerank_recommender import KnowledgeGraphPageRankRecommender\n",
    "\n",
    "rec = CollaborativePageRankRecommender(data_loader)\n",
    "# rec = KnowledgeGraphPageRankRecommender(data_loader)\n",
    "hit_rates = rec.fit(train, validation)"
   ],
   "metadata": {
    "collapsed": false,
    "pycharm": {
     "name": "#%%\n",
     "is_executing": false
    }
   }
  },
  {
   "cell_type": "code",
   "execution_count": null,
   "outputs": [],
   "source": [],
   "metadata": {
    "collapsed": false,
    "pycharm": {
     "name": "#%%\n",
     "is_executing": false
    }
   }
  },
  {
   "cell_type": "code",
   "execution_count": null,
   "outputs": [],
   "source": [
    "def plot_hit_rates(rates):\n",
    "    plt.plot(list(rates.keys()), list(rates.values()))\n",
    "    plt.xlabel('Alpha')\n",
    "    plt.ylabel('HR@10')\n",
    "    plt.savefig('hit_rates_all.pdf')\n",
    "    plt.show()\n",
    "    \n",
    "plot_hit_rates(hit_rates)\n"
   ],
   "metadata": {
    "collapsed": false,
    "pycharm": {
     "name": "#%%\n",
     "is_executing": false
    }
   }
  }
 ],
 "metadata": {
  "kernelspec": {
   "display_name": "Python 3",
   "language": "python",
   "name": "python3"
  },
  "language_info": {
   "codemirror_mode": {
    "name": "ipython",
    "version": 2
   },
   "file_extension": ".py",
   "mimetype": "text/x-python",
   "name": "python",
   "nbconvert_exporter": "python",
   "pygments_lexer": "ipython2",
   "version": "2.7.6"
  },
  "pycharm": {
   "stem_cell": {
    "cell_type": "raw",
    "source": [],
    "metadata": {
     "collapsed": false
    }
   }
  }
 },
 "nbformat": 4,
 "nbformat_minor": 0
}