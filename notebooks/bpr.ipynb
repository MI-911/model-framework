{
 "cells": [
  {
   "cell_type": "code",
   "execution_count": 18,
   "metadata": {
    "collapsed": true,
    "pycharm": {
     "name": "#%%\n",
     "is_executing": false
    }
   },
   "outputs": [
    {
     "name": "stdout",
     "text": [
      "The autoreload extension is already loaded. To reload it, use:\n  %reload_ext autoreload\n",
      "Init dataloader with 36526 ratings\n \n            DataLoader Information\n            -----------------------------------\n            n_users:                      932\n            n_movies:                     1459\n            n_descriptive_entities:       732\n\n            n_ratings:                    36526\n            n_movie_ratings:              15691\n            n_descriptive_entity_ratings: 20835\n        \n",
      "Asserting positive samples not in training set for each user...\nAsserting negative samples occurrence in training set, but not rated for each user...\n",
      "Asserting positive samples do not occur in negative samples...\nReturning a dataset over 930 users.\n"
     ],
     "output_type": "stream"
    }
   ],
   "source": [
    "%load_ext autoreload\n",
    "%autoreload 2\n",
    "\n",
    "from data_loading.loo_data_loader import DesignatedDataLoader\n",
    "data_loader = DesignatedDataLoader.load_from(\n",
    "    path='../data_loading/mindreader',\n",
    "    movies_only=False,\n",
    "    min_num_entity_ratings=3,\n",
    "    filter_unknowns=True\n",
    ")\n",
    "\n",
    "data_loader.random_seed = 2\n",
    "\n",
    "print(data_loader.info())\n",
    "\n",
    "train, validation, test = data_loader.make(\n",
    "    movie_to_entity_ratio=1,\n",
    "    replace_movies_with_descriptive_entities=False,\n",
    "    n_negative_samples=100\n",
    ")"
   ]
  },
  {
   "cell_type": "code",
   "execution_count": 19,
   "outputs": [
    {
     "name": "stderr",
     "text": [
      "2019-12-19 22:02:55.099 | INFO     | __main__:<module>:37 - 1: Hit: 20.537634408602152\n",
      "2019-12-19 22:02:57.867 | INFO     | __main__:<module>:37 - 2: Hit: 20.0\n",
      "2019-12-19 22:03:00.833 | INFO     | __main__:<module>:37 - 3: Hit: 17.741935483870968\n",
      "2019-12-19 22:03:04.049 | INFO     | __main__:<module>:37 - 4: Hit: 17.741935483870968\n",
      "2019-12-19 22:03:11.972 | INFO     | __main__:<module>:37 - 5: Hit: 17.20430107526882\n",
      "2019-12-19 22:03:19.429 | INFO     | __main__:<module>:37 - 6: Hit: 17.20430107526882\n",
      "2019-12-19 22:03:26.371 | INFO     | __main__:<module>:37 - 7: Hit: 16.559139784946236\n",
      "2019-12-19 22:03:32.927 | INFO     | __main__:<module>:37 - 8: Hit: 16.559139784946236\n",
      "2019-12-19 22:03:39.280 | INFO     | __main__:<module>:37 - 9: Hit: 17.634408602150536\n",
      "2019-12-19 22:03:45.765 | INFO     | __main__:<module>:37 - 10: Hit: 17.526881720430108\n"
     ],
     "output_type": "stream"
    }
   ],
   "source": [
    "from sklearn.utils.extmath import randomized_svd\n",
    "import numpy as np\n",
    "import scipy\n",
    "from loguru import logger\n",
    "import operator\n",
    "from utility.utility import csr\n",
    "ratings = csr(train)\n",
    "\n",
    "\n",
    "for k in range(1, 11):\n",
    "    U, sigma, VT = randomized_svd(ratings, k, n_iter=20)\n",
    "    sigma = scipy.sparse.diags(sigma, 0)\n",
    "    U = U * sigma\n",
    "    V = VT.T\n",
    "    \n",
    "    def recommend(users):\n",
    "        ufactors = U[users, :]\n",
    "        return np.dot(ufactors, V.T)\n",
    "    recommend(0)\n",
    "    \n",
    "    hits = 0\n",
    "    count = 0\n",
    "    \n",
    "    for user, validation_tuple in validation:\n",
    "        to_find, negative = validation_tuple\n",
    "    \n",
    "        to_rank = [to_find] + negative\n",
    "        \n",
    "        scores = recommend(user)\n",
    "        item_scores = sorted(list(enumerate(scores)), key=operator.itemgetter(1), reverse=True)\n",
    "        top_k = [item for item, score in item_scores if item in to_rank][:10]\n",
    "    \n",
    "        if to_find in top_k:\n",
    "            hits += 1\n",
    "        count += 1\n",
    "    \n",
    "    logger.info(f'{k}: Hit: {hits / count * 100}')"
   ],
   "metadata": {
    "collapsed": false,
    "pycharm": {
     "name": "#%%\n",
     "is_executing": false
    }
   }
  },
  {
   "cell_type": "code",
   "execution_count": 20,
   "outputs": [
    {
     "name": "stderr",
     "text": [
      "2019-12-19 22:03:45.810 | INFO     | models.bpr_recommender:fit:32 - 16 parameters to search\n",
      "2019-12-19 22:03:45.832 | INFO     | models.bpr_recommender:fit:37 - {'reg': 0.001, 'learning_rate': 0.1, 'n_iters': 200, 'n_factors': 1, 'batch_size': 8}\n",
      "2019-12-19 22:03:52.165 | INFO     | models.bpr_recommender:fit:55 - Hit: 15.268817204301074\n",
      "2019-12-19 22:03:52.166 | INFO     | models.bpr_recommender:fit:37 - {'reg': 0.001, 'learning_rate': 0.1, 'n_iters': 200, 'n_factors': 1, 'batch_size': 16}\n",
      "2019-12-19 22:03:57.292 | INFO     | models.bpr_recommender:fit:55 - Hit: 13.440860215053762\n",
      "2019-12-19 22:03:57.293 | INFO     | models.bpr_recommender:fit:37 - {'reg': 0.001, 'learning_rate': 0.1, 'n_iters': 200, 'n_factors': 2, 'batch_size': 8}\n",
      "2019-12-19 22:04:03.993 | INFO     | models.bpr_recommender:fit:55 - Hit: 16.881720430107528\n",
      "2019-12-19 22:04:03.994 | INFO     | models.bpr_recommender:fit:37 - {'reg': 0.001, 'learning_rate': 0.1, 'n_iters': 200, 'n_factors': 2, 'batch_size': 16}\n",
      "2019-12-19 22:04:09.256 | INFO     | models.bpr_recommender:fit:55 - Hit: 17.20430107526882\n",
      "2019-12-19 22:04:09.256 | INFO     | models.bpr_recommender:fit:37 - {'reg': 0.001, 'learning_rate': 0.1, 'n_iters': 250, 'n_factors': 1, 'batch_size': 8}\n",
      "2019-12-19 22:04:17.214 | INFO     | models.bpr_recommender:fit:55 - Hit: 20.43010752688172\n",
      "2019-12-19 22:04:17.215 | INFO     | models.bpr_recommender:fit:37 - {'reg': 0.001, 'learning_rate': 0.1, 'n_iters': 250, 'n_factors': 1, 'batch_size': 16}\n",
      "2019-12-19 22:04:23.608 | INFO     | models.bpr_recommender:fit:55 - Hit: 20.0\n",
      "2019-12-19 22:04:23.609 | INFO     | models.bpr_recommender:fit:37 - {'reg': 0.001, 'learning_rate': 0.1, 'n_iters': 250, 'n_factors': 2, 'batch_size': 8}\n",
      "2019-12-19 22:04:31.992 | INFO     | models.bpr_recommender:fit:55 - Hit: 16.021505376344088\n",
      "2019-12-19 22:04:31.993 | INFO     | models.bpr_recommender:fit:37 - {'reg': 0.001, 'learning_rate': 0.1, 'n_iters': 250, 'n_factors': 2, 'batch_size': 16}\n",
      "2019-12-19 22:04:38.500 | INFO     | models.bpr_recommender:fit:55 - Hit: 16.989247311827956\n",
      "2019-12-19 22:04:38.500 | INFO     | models.bpr_recommender:fit:37 - {'reg': 0.001, 'learning_rate': 0.15, 'n_iters': 200, 'n_factors': 1, 'batch_size': 8}\n",
      "2019-12-19 22:04:44.826 | INFO     | models.bpr_recommender:fit:55 - Hit: 21.50537634408602\n",
      "2019-12-19 22:04:44.827 | INFO     | models.bpr_recommender:fit:37 - {'reg': 0.001, 'learning_rate': 0.15, 'n_iters': 200, 'n_factors': 1, 'batch_size': 16}\n",
      "2019-12-19 22:04:49.942 | INFO     | models.bpr_recommender:fit:55 - Hit: 12.795698924731184\n",
      "2019-12-19 22:04:49.943 | INFO     | models.bpr_recommender:fit:37 - {'reg': 0.001, 'learning_rate': 0.15, 'n_iters': 200, 'n_factors': 2, 'batch_size': 8}\n",
      "2019-12-19 22:04:56.693 | INFO     | models.bpr_recommender:fit:55 - Hit: 15.591397849462366\n",
      "2019-12-19 22:04:56.693 | INFO     | models.bpr_recommender:fit:37 - {'reg': 0.001, 'learning_rate': 0.15, 'n_iters': 200, 'n_factors': 2, 'batch_size': 16}\n",
      "2019-12-19 22:05:01.974 | INFO     | models.bpr_recommender:fit:55 - Hit: 16.236559139784944\n",
      "2019-12-19 22:05:01.975 | INFO     | models.bpr_recommender:fit:37 - {'reg': 0.001, 'learning_rate': 0.15, 'n_iters': 250, 'n_factors': 1, 'batch_size': 8}\n",
      "2019-12-19 22:05:10.007 | INFO     | models.bpr_recommender:fit:55 - Hit: 19.892473118279568\n",
      "2019-12-19 22:05:10.008 | INFO     | models.bpr_recommender:fit:37 - {'reg': 0.001, 'learning_rate': 0.15, 'n_iters': 250, 'n_factors': 1, 'batch_size': 16}\n",
      "2019-12-19 22:05:16.371 | INFO     | models.bpr_recommender:fit:55 - Hit: 11.505376344086022\n",
      "2019-12-19 22:05:16.372 | INFO     | models.bpr_recommender:fit:37 - {'reg': 0.001, 'learning_rate': 0.15, 'n_iters': 250, 'n_factors': 2, 'batch_size': 8}\n",
      "2019-12-19 22:05:25.041 | INFO     | models.bpr_recommender:fit:55 - Hit: 16.989247311827956\n",
      "2019-12-19 22:05:25.041 | INFO     | models.bpr_recommender:fit:37 - {'reg': 0.001, 'learning_rate': 0.15, 'n_iters': 250, 'n_factors': 2, 'batch_size': 16}\n",
      "2019-12-19 22:05:32.302 | INFO     | models.bpr_recommender:fit:55 - Hit: 16.881720430107528\n",
      "2019-12-19 22:05:32.303 | INFO     | models.bpr_recommender:fit:59 - Best: ({'reg': 0.001, 'learning_rate': 0.15, 'n_iters': 200, 'n_factors': 1, 'batch_size': 8}, 0.21505376344086022)\n"
     ],
     "output_type": "stream"
    }
   ],
   "source": [
    "from models.bpr import BPR\n",
    "from models.bpr_recommender import BPRRecommender\n",
    "import operator\n",
    "\n",
    "bpr = BPRRecommender()\n",
    "bpr.fit(train, validation)"
   ],
   "metadata": {
    "collapsed": false,
    "pycharm": {
     "name": "#%%\n",
     "is_executing": false
    }
   }
  }
 ],
 "metadata": {
  "kernelspec": {
   "display_name": "Python 3",
   "language": "python",
   "name": "python3"
  },
  "language_info": {
   "codemirror_mode": {
    "name": "ipython",
    "version": 2
   },
   "file_extension": ".py",
   "mimetype": "text/x-python",
   "name": "python",
   "nbconvert_exporter": "python",
   "pygments_lexer": "ipython2",
   "version": "2.7.6"
  },
  "pycharm": {
   "stem_cell": {
    "cell_type": "raw",
    "source": [],
    "metadata": {
     "collapsed": false
    }
   }
  }
 },
 "nbformat": 4,
 "nbformat_minor": 0
}