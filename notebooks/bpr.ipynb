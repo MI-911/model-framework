{
 "cells": [
  {
   "cell_type": "code",
   "execution_count": 4,
   "metadata": {
    "collapsed": true,
    "pycharm": {
     "name": "#%%\n",
     "is_executing": false
    }
   },
   "outputs": [
    {
     "name": "stdout",
     "text": [
      "The autoreload extension is already loaded. To reload it, use:\n  %reload_ext autoreload\n",
      "Init dataloader with 36349 ratings\n \n            DataLoader Information\n            -----------------------------------\n            n_users:                      929\n            n_movies:                     1456\n            n_descriptive_entities:       731\n\n            n_ratings:                    36349\n            n_movie_ratings:              15605\n            n_descriptive_entity_ratings: 20744\n        \n",
      "Asserting positive samples not in training set for each user...\nAsserting negative samples occurrence in training set, but not rated for each user...\n",
      "Asserting positive samples do not occur in negative samples...\nReturning a dataset over 927 users.\n"
     ],
     "output_type": "stream"
    }
   ],
   "source": [
    "%load_ext autoreload\n",
    "%autoreload 2\n",
    "\n",
    "from data_loading.loo_data_loader import DesignatedDataLoader\n",
    "data_loader = DesignatedDataLoader.load_from(\n",
    "    path='../data_loading/mindreader',\n",
    "    movies_only=True,\n",
    "    min_num_entity_ratings=3,\n",
    "    filter_unknowns=True\n",
    ")\n",
    "\n",
    "data_loader.random_seed = 11\n",
    "\n",
    "print(data_loader.info())\n",
    "\n",
    "train, validation, test = data_loader.make(\n",
    "    movie_to_entity_ratio=1,\n",
    "    n_negative_samples=100\n",
    ")"
   ]
  },
  {
   "cell_type": "code",
   "execution_count": 16,
   "outputs": [
    {
     "name": "stderr",
     "text": [
      "2019-12-19 00:29:57.403 | INFO     | models.bpr_recommender:fit:31 - 16 parameters to search\n",
      "2019-12-19 00:29:57.416 | INFO     | models.bpr_recommender:fit:36 - {'reg': 0.001, 'learning_rate': 0.15, 'n_iters': 200, 'n_factors': 1, 'batch_size': 16}\n",
      "2019-12-19 00:30:03.066 | INFO     | models.bpr_recommender:fit:54 - Hit: 28.047464940668824\n",
      "2019-12-19 00:30:03.066 | INFO     | models.bpr_recommender:fit:36 - {'reg': 0.001, 'learning_rate': 0.15, 'n_iters': 200, 'n_factors': 1, 'batch_size': 32}\n",
      "2019-12-19 00:30:07.698 | INFO     | models.bpr_recommender:fit:54 - Hit: 40.45307443365696\n",
      "2019-12-19 00:30:07.698 | INFO     | models.bpr_recommender:fit:36 - {'reg': 0.001, 'learning_rate': 0.15, 'n_iters': 250, 'n_factors': 1, 'batch_size': 16}\n",
      "2019-12-19 00:30:13.890 | INFO     | models.bpr_recommender:fit:54 - Hit: 41.63969795037757\n",
      "2019-12-19 00:30:13.891 | INFO     | models.bpr_recommender:fit:36 - {'reg': 0.001, 'learning_rate': 0.15, 'n_iters': 250, 'n_factors': 1, 'batch_size': 32}\n",
      "2019-12-19 00:30:19.099 | INFO     | models.bpr_recommender:fit:54 - Hit: 40.021574973031285\n",
      "2019-12-19 00:30:19.100 | INFO     | models.bpr_recommender:fit:36 - {'reg': 0.001, 'learning_rate': 0.175, 'n_iters': 200, 'n_factors': 1, 'batch_size': 16}\n",
      "2019-12-19 00:30:23.870 | INFO     | models.bpr_recommender:fit:54 - Hit: 41.63969795037757\n",
      "2019-12-19 00:30:23.870 | INFO     | models.bpr_recommender:fit:36 - {'reg': 0.001, 'learning_rate': 0.175, 'n_iters': 200, 'n_factors': 1, 'batch_size': 32}\n",
      "2019-12-19 00:30:28.258 | INFO     | models.bpr_recommender:fit:54 - Hit: 42.61057173678533\n",
      "2019-12-19 00:30:28.258 | INFO     | models.bpr_recommender:fit:36 - {'reg': 0.001, 'learning_rate': 0.175, 'n_iters': 250, 'n_factors': 1, 'batch_size': 16}\n",
      "2019-12-19 00:30:34.316 | INFO     | models.bpr_recommender:fit:54 - Hit: 39.80582524271845\n",
      "2019-12-19 00:30:34.316 | INFO     | models.bpr_recommender:fit:36 - {'reg': 0.001, 'learning_rate': 0.175, 'n_iters': 250, 'n_factors': 1, 'batch_size': 32}\n",
      "2019-12-19 00:30:39.982 | INFO     | models.bpr_recommender:fit:54 - Hit: 39.69795037756203\n",
      "2019-12-19 00:30:39.983 | INFO     | models.bpr_recommender:fit:36 - {'reg': 0.002, 'learning_rate': 0.15, 'n_iters': 200, 'n_factors': 1, 'batch_size': 16}\n",
      "2019-12-19 00:30:45.007 | INFO     | models.bpr_recommender:fit:54 - Hit: 41.53182308522114\n",
      "2019-12-19 00:30:45.007 | INFO     | models.bpr_recommender:fit:36 - {'reg': 0.002, 'learning_rate': 0.15, 'n_iters': 200, 'n_factors': 1, 'batch_size': 32}\n",
      "2019-12-19 00:30:49.311 | INFO     | models.bpr_recommender:fit:54 - Hit: 37.648327939590075\n",
      "2019-12-19 00:30:49.311 | INFO     | models.bpr_recommender:fit:36 - {'reg': 0.002, 'learning_rate': 0.15, 'n_iters': 250, 'n_factors': 1, 'batch_size': 16}\n",
      "2019-12-19 00:30:55.244 | INFO     | models.bpr_recommender:fit:54 - Hit: 41.10032362459547\n",
      "2019-12-19 00:30:55.245 | INFO     | models.bpr_recommender:fit:36 - {'reg': 0.002, 'learning_rate': 0.15, 'n_iters': 250, 'n_factors': 1, 'batch_size': 32}\n",
      "2019-12-19 00:31:00.506 | INFO     | models.bpr_recommender:fit:54 - Hit: 43.25782092772384\n",
      "2019-12-19 00:31:00.506 | INFO     | models.bpr_recommender:fit:36 - {'reg': 0.002, 'learning_rate': 0.175, 'n_iters': 200, 'n_factors': 1, 'batch_size': 16}\n",
      "2019-12-19 00:31:05.301 | INFO     | models.bpr_recommender:fit:54 - Hit: 38.9428263214671\n",
      "2019-12-19 00:31:05.302 | INFO     | models.bpr_recommender:fit:36 - {'reg': 0.002, 'learning_rate': 0.175, 'n_iters': 200, 'n_factors': 1, 'batch_size': 32}\n",
      "2019-12-19 00:31:09.549 | INFO     | models.bpr_recommender:fit:54 - Hit: 41.10032362459547\n",
      "2019-12-19 00:31:09.549 | INFO     | models.bpr_recommender:fit:36 - {'reg': 0.002, 'learning_rate': 0.175, 'n_iters': 250, 'n_factors': 1, 'batch_size': 16}\n",
      "2019-12-19 00:31:15.591 | INFO     | models.bpr_recommender:fit:54 - Hit: 39.374325782092775\n",
      "2019-12-19 00:31:15.592 | INFO     | models.bpr_recommender:fit:36 - {'reg': 0.002, 'learning_rate': 0.175, 'n_iters': 250, 'n_factors': 1, 'batch_size': 32}\n",
      "2019-12-19 00:31:20.894 | INFO     | models.bpr_recommender:fit:54 - Hit: 40.45307443365696\n",
      "2019-12-19 00:31:20.894 | INFO     | models.bpr_recommender:fit:58 - Best: ({'reg': 0.002, 'learning_rate': 0.15, 'n_iters': 250, 'n_factors': 1, 'batch_size': 32}, 0.4325782092772384)\n"
     ],
     "output_type": "stream"
    }
   ],
   "source": [
    "from models.bpr import BPR, csr\n",
    "from models.bpr_recommender import BPRRecommender\n",
    "import operator\n",
    "\n",
    "bpr = BPRRecommender()\n",
    "bpr.fit(train, validation)\n"
   ],
   "metadata": {
    "collapsed": false,
    "pycharm": {
     "name": "#%%\n",
     "is_executing": false
    }
   }
  }
 ],
 "metadata": {
  "kernelspec": {
   "display_name": "Python 3",
   "language": "python",
   "name": "python3"
  },
  "language_info": {
   "codemirror_mode": {
    "name": "ipython",
    "version": 2
   },
   "file_extension": ".py",
   "mimetype": "text/x-python",
   "name": "python",
   "nbconvert_exporter": "python",
   "pygments_lexer": "ipython2",
   "version": "2.7.6"
  },
  "pycharm": {
   "stem_cell": {
    "cell_type": "raw",
    "source": [],
    "metadata": {
     "collapsed": false
    }
   }
  }
 },
 "nbformat": 4,
 "nbformat_minor": 0
}