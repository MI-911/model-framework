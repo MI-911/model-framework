{
 "cells": [
  {
   "cell_type": "code",
   "execution_count": 4,
   "metadata": {
    "collapsed": true,
    "pycharm": {
     "name": "#%%\n",
     "is_executing": false
    }
   },
   "outputs": [
    {
     "name": "stdout",
     "text": [
      "The autoreload extension is already loaded. To reload it, use:\n  %reload_ext autoreload\n",
      "Init dataloader with 40138 ratings\n \n            DataLoader Information\n            -----------------------------------\n            n_users:                      932\n            n_movies:                     3001\n            n_descriptive_entities:       1974\n\n            n_ratings:                    40138\n            n_movie_ratings:              17749\n            n_descriptive_entity_ratings: 22389\n        \n",
      "Asserting positive samples not in training set for each user...\nAsserting negative samples occurrence in training set, but not rated for each user...\n",
      "Asserting positive samples do not occur in negative samples...\nReturning a dataset over 927 users.\n"
     ],
     "output_type": "stream"
    }
   ],
   "source": [
    "%load_ext autoreload\n",
    "%autoreload 2\n",
    "\n",
    "from data_loading.loo_data_loader import DesignatedDataLoader\n",
    "data_loader = DesignatedDataLoader.load_from(\n",
    "    path='../data_loading/mindreader',\n",
    "    movies_only=False,\n",
    "    min_num_entity_ratings=1,\n",
    "    filter_unknowns=True\n",
    ")\n",
    "\n",
    "data_loader.random_seed = 2\n",
    "\n",
    "print(data_loader.info())\n",
    "\n",
    "train, validation, test = data_loader.make(\n",
    "    movie_to_entity_ratio=0.5,\n",
    "    replace_movies_with_descriptive_entities=True,\n",
    "    n_negative_samples=100\n",
    ")"
   ]
  },
  {
   "cell_type": "code",
   "execution_count": 5,
   "outputs": [
    {
     "name": "stderr",
     "text": [
      "2019-12-19 21:15:19.275 | INFO     | __main__:<module>:37 - 1: Hit: 11.758360302049622\n",
      "2019-12-19 21:15:34.763 | INFO     | __main__:<module>:37 - 2: Hit: 10.895361380798274\n",
      "2019-12-19 21:15:51.959 | INFO     | __main__:<module>:37 - 3: Hit: 11.542610571736784\n",
      "2019-12-19 21:16:07.443 | INFO     | __main__:<module>:37 - 4: Hit: 9.70873786407767\n",
      "2019-12-19 21:16:23.713 | INFO     | __main__:<module>:37 - 5: Hit: 9.492988133764833\n",
      "2019-12-19 21:16:40.285 | INFO     | __main__:<module>:37 - 6: Hit: 9.816612729234087\n",
      "2019-12-19 21:16:54.496 | INFO     | __main__:<module>:37 - 7: Hit: 9.385113268608414\n",
      "2019-12-19 21:17:09.283 | INFO     | __main__:<module>:37 - 8: Hit: 9.385113268608414\n",
      "2019-12-19 21:17:24.215 | INFO     | __main__:<module>:37 - 9: Hit: 9.60086299892125\n",
      "2019-12-19 21:17:39.659 | INFO     | __main__:<module>:37 - 10: Hit: 9.924487594390508\n"
     ],
     "output_type": "stream"
    }
   ],
   "source": [
    "from sklearn.utils.extmath import randomized_svd\n",
    "import numpy as np\n",
    "import scipy\n",
    "from loguru import logger\n",
    "import operator\n",
    "from utility.utility import csr\n",
    "ratings = csr(train)\n",
    "\n",
    "\n",
    "for k in range(1, 11):\n",
    "    U, sigma, VT = randomized_svd(ratings, k, n_iter=20)\n",
    "    sigma = scipy.sparse.diags(sigma, 0)\n",
    "    U = U * sigma\n",
    "    V = VT.T\n",
    "    \n",
    "    def recommend(users):\n",
    "        ufactors = U[users, :]\n",
    "        return np.dot(ufactors, V.T)\n",
    "    recommend(0)\n",
    "    \n",
    "    hits = 0\n",
    "    count = 0\n",
    "    \n",
    "    for user, validation_tuple in validation:\n",
    "        to_find, negative = validation_tuple\n",
    "    \n",
    "        to_rank = [to_find] + negative\n",
    "        \n",
    "        scores = recommend(user)\n",
    "        item_scores = sorted(list(enumerate(scores)), key=operator.itemgetter(1), reverse=True)\n",
    "        top_k = [item for item, score in item_scores if item in to_rank][:10]\n",
    "    \n",
    "        if to_find in top_k:\n",
    "            hits += 1\n",
    "        count += 1\n",
    "    \n",
    "    logger.info(f'{k}: Hit: {hits / count * 100}')"
   ],
   "metadata": {
    "collapsed": false,
    "pycharm": {
     "name": "#%%\n",
     "is_executing": false
    }
   }
  },
  {
   "cell_type": "code",
   "execution_count": 6,
   "outputs": [
    {
     "name": "stderr",
     "text": [
      "2019-12-19 21:17:39.692 | INFO     | models.bpr_recommender:fit:32 - 16 parameters to search\n",
      "2019-12-19 21:17:39.715 | INFO     | models.bpr_recommender:fit:37 - {'reg': 0.001, 'learning_rate': 0.1, 'n_iters': 200, 'n_factors': 1, 'batch_size': 8}\n",
      "2019-12-19 21:17:46.550 | INFO     | models.bpr_recommender:fit:55 - Hit: 12.513484358144552\n",
      "2019-12-19 21:17:46.550 | INFO     | models.bpr_recommender:fit:37 - {'reg': 0.001, 'learning_rate': 0.1, 'n_iters': 200, 'n_factors': 1, 'batch_size': 16}\n",
      "2019-12-19 21:17:51.833 | INFO     | models.bpr_recommender:fit:55 - Hit: 12.944983818770226\n",
      "2019-12-19 21:17:51.833 | INFO     | models.bpr_recommender:fit:37 - {'reg': 0.001, 'learning_rate': 0.1, 'n_iters': 200, 'n_factors': 2, 'batch_size': 8}\n",
      "2019-12-19 21:17:58.853 | INFO     | models.bpr_recommender:fit:55 - Hit: 9.60086299892125\n",
      "2019-12-19 21:17:58.854 | INFO     | models.bpr_recommender:fit:37 - {'reg': 0.001, 'learning_rate': 0.1, 'n_iters': 200, 'n_factors': 2, 'batch_size': 16}\n",
      "2019-12-19 21:18:04.190 | INFO     | models.bpr_recommender:fit:55 - Hit: 9.70873786407767\n",
      "2019-12-19 21:18:04.191 | INFO     | models.bpr_recommender:fit:37 - {'reg': 0.001, 'learning_rate': 0.1, 'n_iters': 250, 'n_factors': 1, 'batch_size': 8}\n",
      "2019-12-19 21:18:12.538 | INFO     | models.bpr_recommender:fit:55 - Hit: 11.650485436893204\n",
      "2019-12-19 21:18:12.539 | INFO     | models.bpr_recommender:fit:37 - {'reg': 0.001, 'learning_rate': 0.1, 'n_iters': 250, 'n_factors': 1, 'batch_size': 16}\n",
      "2019-12-19 21:18:19.639 | INFO     | models.bpr_recommender:fit:55 - Hit: 13.268608414239482\n",
      "2019-12-19 21:18:19.640 | INFO     | models.bpr_recommender:fit:37 - {'reg': 0.001, 'learning_rate': 0.1, 'n_iters': 250, 'n_factors': 2, 'batch_size': 8}\n",
      "2019-12-19 21:18:28.348 | INFO     | models.bpr_recommender:fit:55 - Hit: 10.895361380798274\n",
      "2019-12-19 21:18:28.349 | INFO     | models.bpr_recommender:fit:37 - {'reg': 0.001, 'learning_rate': 0.1, 'n_iters': 250, 'n_factors': 2, 'batch_size': 16}\n",
      "2019-12-19 21:18:35.083 | INFO     | models.bpr_recommender:fit:55 - Hit: 8.30636461704423\n",
      "2019-12-19 21:18:35.084 | INFO     | models.bpr_recommender:fit:37 - {'reg': 0.001, 'learning_rate': 0.15, 'n_iters': 200, 'n_factors': 1, 'batch_size': 8}\n",
      "2019-12-19 21:18:41.533 | INFO     | models.bpr_recommender:fit:55 - Hit: 10.463861920172599\n",
      "2019-12-19 21:18:41.534 | INFO     | models.bpr_recommender:fit:37 - {'reg': 0.001, 'learning_rate': 0.15, 'n_iters': 200, 'n_factors': 1, 'batch_size': 16}\n",
      "2019-12-19 21:18:46.673 | INFO     | models.bpr_recommender:fit:55 - Hit: 11.86623516720604\n",
      "2019-12-19 21:18:46.674 | INFO     | models.bpr_recommender:fit:37 - {'reg': 0.001, 'learning_rate': 0.15, 'n_iters': 200, 'n_factors': 2, 'batch_size': 8}\n",
      "2019-12-19 21:18:53.527 | INFO     | models.bpr_recommender:fit:55 - Hit: 10.355987055016183\n",
      "2019-12-19 21:18:53.528 | INFO     | models.bpr_recommender:fit:37 - {'reg': 0.001, 'learning_rate': 0.15, 'n_iters': 200, 'n_factors': 2, 'batch_size': 16}\n",
      "2019-12-19 21:18:59.225 | INFO     | models.bpr_recommender:fit:55 - Hit: 9.924487594390508\n",
      "2019-12-19 21:18:59.226 | INFO     | models.bpr_recommender:fit:37 - {'reg': 0.001, 'learning_rate': 0.15, 'n_iters': 250, 'n_factors': 1, 'batch_size': 8}\n",
      "2019-12-19 21:19:07.404 | INFO     | models.bpr_recommender:fit:55 - Hit: 11.86623516720604\n",
      "2019-12-19 21:19:07.405 | INFO     | models.bpr_recommender:fit:37 - {'reg': 0.001, 'learning_rate': 0.15, 'n_iters': 250, 'n_factors': 1, 'batch_size': 16}\n",
      "2019-12-19 21:19:14.571 | INFO     | models.bpr_recommender:fit:55 - Hit: 9.385113268608414\n",
      "2019-12-19 21:19:14.571 | INFO     | models.bpr_recommender:fit:37 - {'reg': 0.001, 'learning_rate': 0.15, 'n_iters': 250, 'n_factors': 2, 'batch_size': 8}\n",
      "2019-12-19 21:19:23.811 | INFO     | models.bpr_recommender:fit:55 - Hit: 9.385113268608414\n",
      "2019-12-19 21:19:23.812 | INFO     | models.bpr_recommender:fit:37 - {'reg': 0.001, 'learning_rate': 0.15, 'n_iters': 250, 'n_factors': 2, 'batch_size': 16}\n",
      "2019-12-19 21:19:30.550 | INFO     | models.bpr_recommender:fit:55 - Hit: 9.277238403451996\n",
      "2019-12-19 21:19:30.552 | INFO     | models.bpr_recommender:fit:59 - Best: ({'reg': 0.001, 'learning_rate': 0.1, 'n_iters': 250, 'n_factors': 1, 'batch_size': 16}, 0.13268608414239483)\n"
     ],
     "output_type": "stream"
    }
   ],
   "source": [
    "from models.bpr import BPR\n",
    "from models.bpr_recommender import BPRRecommender\n",
    "import operator\n",
    "\n",
    "bpr = BPRRecommender()\n",
    "bpr.fit(train, validation)"
   ],
   "metadata": {
    "collapsed": false,
    "pycharm": {
     "name": "#%%\n",
     "is_executing": false
    }
   }
  }
 ],
 "metadata": {
  "kernelspec": {
   "display_name": "Python 3",
   "language": "python",
   "name": "python3"
  },
  "language_info": {
   "codemirror_mode": {
    "name": "ipython",
    "version": 2
   },
   "file_extension": ".py",
   "mimetype": "text/x-python",
   "name": "python",
   "nbconvert_exporter": "python",
   "pygments_lexer": "ipython2",
   "version": "2.7.6"
  },
  "pycharm": {
   "stem_cell": {
    "cell_type": "raw",
    "source": [],
    "metadata": {
     "collapsed": false
    }
   }
  }
 },
 "nbformat": 4,
 "nbformat_minor": 0
}