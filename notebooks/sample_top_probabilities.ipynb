{
 "cells": [
  {
   "cell_type": "code",
   "source": [
    "import pandas as pd\n",
    "import matplotlib.pyplot as plt\n",
    "from matplotlib.ticker import MultipleLocator, FormatStrFormatter, AutoMinorLocator\n",
    "import numpy as np\n",
    "import seaborn as sns"
   ],
   "metadata": {
    "collapsed": false,
    "pycharm": {
     "name": "#%% \n",
     "is_executing": false
    }
   },
   "execution_count": 5,
   "outputs": []
  },
  {
   "cell_type": "code",
   "execution_count": 6,
   "outputs": [
    {
     "traceback": [
      "\u001b[0;31m---------------------------------------------------------------------------\u001b[0m",
      "\u001b[0;31mFileNotFoundError\u001b[0m                         Traceback (most recent call last)",
      "\u001b[0;32m<ipython-input-6-ecf21aa340b5>\u001b[0m in \u001b[0;36m<module>\u001b[0;34m\u001b[0m\n\u001b[1;32m      2\u001b[0m \u001b[0mmindreader\u001b[0m \u001b[0;34m=\u001b[0m \u001b[0;34mf'../data_loading/mindreader/ratings.csv'\u001b[0m\u001b[0;34m\u001b[0m\u001b[0;34m\u001b[0m\u001b[0m\n\u001b[1;32m      3\u001b[0m \u001b[0;34m\u001b[0m\u001b[0m\n\u001b[0;32m----> 4\u001b[0;31m \u001b[0mratings\u001b[0m \u001b[0;34m=\u001b[0m \u001b[0mpd\u001b[0m\u001b[0;34m.\u001b[0m\u001b[0mread_csv\u001b[0m\u001b[0;34m(\u001b[0m\u001b[0mmindreader\u001b[0m\u001b[0;34m)\u001b[0m\u001b[0;34m\u001b[0m\u001b[0;34m\u001b[0m\u001b[0m\n\u001b[0m\u001b[1;32m      5\u001b[0m \u001b[0;34m\u001b[0m\u001b[0m\n\u001b[1;32m      6\u001b[0m \u001b[0mratings\u001b[0m \u001b[0;34m=\u001b[0m \u001b[0mratings\u001b[0m\u001b[0;34m[\u001b[0m\u001b[0mratings\u001b[0m\u001b[0;34m.\u001b[0m\u001b[0muri\u001b[0m\u001b[0;34m.\u001b[0m\u001b[0mstr\u001b[0m\u001b[0;34m.\u001b[0m\u001b[0mstartswith\u001b[0m\u001b[0;34m(\u001b[0m\u001b[0;34m'Decade-'\u001b[0m\u001b[0;34m)\u001b[0m \u001b[0;34m!=\u001b[0m \u001b[0;32mTrue\u001b[0m\u001b[0;34m]\u001b[0m\u001b[0;34m\u001b[0m\u001b[0;34m\u001b[0m\u001b[0m\n",
      "\u001b[0;32m~/Code/model-framework/.venv/lib/python3.8/site-packages/pandas/io/parsers.py\u001b[0m in \u001b[0;36mparser_f\u001b[0;34m(filepath_or_buffer, sep, delimiter, header, names, index_col, usecols, squeeze, prefix, mangle_dupe_cols, dtype, engine, converters, true_values, false_values, skipinitialspace, skiprows, skipfooter, nrows, na_values, keep_default_na, na_filter, verbose, skip_blank_lines, parse_dates, infer_datetime_format, keep_date_col, date_parser, dayfirst, cache_dates, iterator, chunksize, compression, thousands, decimal, lineterminator, quotechar, quoting, doublequote, escapechar, comment, encoding, dialect, error_bad_lines, warn_bad_lines, delim_whitespace, low_memory, memory_map, float_precision)\u001b[0m\n\u001b[1;32m    683\u001b[0m         )\n\u001b[1;32m    684\u001b[0m \u001b[0;34m\u001b[0m\u001b[0m\n\u001b[0;32m--> 685\u001b[0;31m         \u001b[0;32mreturn\u001b[0m \u001b[0m_read\u001b[0m\u001b[0;34m(\u001b[0m\u001b[0mfilepath_or_buffer\u001b[0m\u001b[0;34m,\u001b[0m \u001b[0mkwds\u001b[0m\u001b[0;34m)\u001b[0m\u001b[0;34m\u001b[0m\u001b[0;34m\u001b[0m\u001b[0m\n\u001b[0m\u001b[1;32m    686\u001b[0m \u001b[0;34m\u001b[0m\u001b[0m\n\u001b[1;32m    687\u001b[0m     \u001b[0mparser_f\u001b[0m\u001b[0;34m.\u001b[0m\u001b[0m__name__\u001b[0m \u001b[0;34m=\u001b[0m \u001b[0mname\u001b[0m\u001b[0;34m\u001b[0m\u001b[0;34m\u001b[0m\u001b[0m\n",
      "\u001b[0;32m~/Code/model-framework/.venv/lib/python3.8/site-packages/pandas/io/parsers.py\u001b[0m in \u001b[0;36m_read\u001b[0;34m(filepath_or_buffer, kwds)\u001b[0m\n\u001b[1;32m    455\u001b[0m \u001b[0;34m\u001b[0m\u001b[0m\n\u001b[1;32m    456\u001b[0m     \u001b[0;31m# Create the parser.\u001b[0m\u001b[0;34m\u001b[0m\u001b[0;34m\u001b[0m\u001b[0;34m\u001b[0m\u001b[0m\n\u001b[0;32m--> 457\u001b[0;31m     \u001b[0mparser\u001b[0m \u001b[0;34m=\u001b[0m \u001b[0mTextFileReader\u001b[0m\u001b[0;34m(\u001b[0m\u001b[0mfp_or_buf\u001b[0m\u001b[0;34m,\u001b[0m \u001b[0;34m**\u001b[0m\u001b[0mkwds\u001b[0m\u001b[0;34m)\u001b[0m\u001b[0;34m\u001b[0m\u001b[0;34m\u001b[0m\u001b[0m\n\u001b[0m\u001b[1;32m    458\u001b[0m \u001b[0;34m\u001b[0m\u001b[0m\n\u001b[1;32m    459\u001b[0m     \u001b[0;32mif\u001b[0m \u001b[0mchunksize\u001b[0m \u001b[0;32mor\u001b[0m \u001b[0miterator\u001b[0m\u001b[0;34m:\u001b[0m\u001b[0;34m\u001b[0m\u001b[0;34m\u001b[0m\u001b[0m\n",
      "\u001b[0;32m~/Code/model-framework/.venv/lib/python3.8/site-packages/pandas/io/parsers.py\u001b[0m in \u001b[0;36m__init__\u001b[0;34m(self, f, engine, **kwds)\u001b[0m\n\u001b[1;32m    893\u001b[0m             \u001b[0mself\u001b[0m\u001b[0;34m.\u001b[0m\u001b[0moptions\u001b[0m\u001b[0;34m[\u001b[0m\u001b[0;34m\"has_index_names\"\u001b[0m\u001b[0;34m]\u001b[0m \u001b[0;34m=\u001b[0m \u001b[0mkwds\u001b[0m\u001b[0;34m[\u001b[0m\u001b[0;34m\"has_index_names\"\u001b[0m\u001b[0;34m]\u001b[0m\u001b[0;34m\u001b[0m\u001b[0;34m\u001b[0m\u001b[0m\n\u001b[1;32m    894\u001b[0m \u001b[0;34m\u001b[0m\u001b[0m\n\u001b[0;32m--> 895\u001b[0;31m         \u001b[0mself\u001b[0m\u001b[0;34m.\u001b[0m\u001b[0m_make_engine\u001b[0m\u001b[0;34m(\u001b[0m\u001b[0mself\u001b[0m\u001b[0;34m.\u001b[0m\u001b[0mengine\u001b[0m\u001b[0;34m)\u001b[0m\u001b[0;34m\u001b[0m\u001b[0;34m\u001b[0m\u001b[0m\n\u001b[0m\u001b[1;32m    896\u001b[0m \u001b[0;34m\u001b[0m\u001b[0m\n\u001b[1;32m    897\u001b[0m     \u001b[0;32mdef\u001b[0m \u001b[0mclose\u001b[0m\u001b[0;34m(\u001b[0m\u001b[0mself\u001b[0m\u001b[0;34m)\u001b[0m\u001b[0;34m:\u001b[0m\u001b[0;34m\u001b[0m\u001b[0;34m\u001b[0m\u001b[0m\n",
      "\u001b[0;32m~/Code/model-framework/.venv/lib/python3.8/site-packages/pandas/io/parsers.py\u001b[0m in \u001b[0;36m_make_engine\u001b[0;34m(self, engine)\u001b[0m\n\u001b[1;32m   1133\u001b[0m     \u001b[0;32mdef\u001b[0m \u001b[0m_make_engine\u001b[0m\u001b[0;34m(\u001b[0m\u001b[0mself\u001b[0m\u001b[0;34m,\u001b[0m \u001b[0mengine\u001b[0m\u001b[0;34m=\u001b[0m\u001b[0;34m\"c\"\u001b[0m\u001b[0;34m)\u001b[0m\u001b[0;34m:\u001b[0m\u001b[0;34m\u001b[0m\u001b[0;34m\u001b[0m\u001b[0m\n\u001b[1;32m   1134\u001b[0m         \u001b[0;32mif\u001b[0m \u001b[0mengine\u001b[0m \u001b[0;34m==\u001b[0m \u001b[0;34m\"c\"\u001b[0m\u001b[0;34m:\u001b[0m\u001b[0;34m\u001b[0m\u001b[0;34m\u001b[0m\u001b[0m\n\u001b[0;32m-> 1135\u001b[0;31m             \u001b[0mself\u001b[0m\u001b[0;34m.\u001b[0m\u001b[0m_engine\u001b[0m \u001b[0;34m=\u001b[0m \u001b[0mCParserWrapper\u001b[0m\u001b[0;34m(\u001b[0m\u001b[0mself\u001b[0m\u001b[0;34m.\u001b[0m\u001b[0mf\u001b[0m\u001b[0;34m,\u001b[0m \u001b[0;34m**\u001b[0m\u001b[0mself\u001b[0m\u001b[0;34m.\u001b[0m\u001b[0moptions\u001b[0m\u001b[0;34m)\u001b[0m\u001b[0;34m\u001b[0m\u001b[0;34m\u001b[0m\u001b[0m\n\u001b[0m\u001b[1;32m   1136\u001b[0m         \u001b[0;32melse\u001b[0m\u001b[0;34m:\u001b[0m\u001b[0;34m\u001b[0m\u001b[0;34m\u001b[0m\u001b[0m\n\u001b[1;32m   1137\u001b[0m             \u001b[0;32mif\u001b[0m \u001b[0mengine\u001b[0m \u001b[0;34m==\u001b[0m \u001b[0;34m\"python\"\u001b[0m\u001b[0;34m:\u001b[0m\u001b[0;34m\u001b[0m\u001b[0;34m\u001b[0m\u001b[0m\n",
      "\u001b[0;32m~/Code/model-framework/.venv/lib/python3.8/site-packages/pandas/io/parsers.py\u001b[0m in \u001b[0;36m__init__\u001b[0;34m(self, src, **kwds)\u001b[0m\n\u001b[1;32m   1915\u001b[0m         \u001b[0mkwds\u001b[0m\u001b[0;34m[\u001b[0m\u001b[0;34m\"usecols\"\u001b[0m\u001b[0;34m]\u001b[0m \u001b[0;34m=\u001b[0m \u001b[0mself\u001b[0m\u001b[0;34m.\u001b[0m\u001b[0musecols\u001b[0m\u001b[0;34m\u001b[0m\u001b[0;34m\u001b[0m\u001b[0m\n\u001b[1;32m   1916\u001b[0m \u001b[0;34m\u001b[0m\u001b[0m\n\u001b[0;32m-> 1917\u001b[0;31m         \u001b[0mself\u001b[0m\u001b[0;34m.\u001b[0m\u001b[0m_reader\u001b[0m \u001b[0;34m=\u001b[0m \u001b[0mparsers\u001b[0m\u001b[0;34m.\u001b[0m\u001b[0mTextReader\u001b[0m\u001b[0;34m(\u001b[0m\u001b[0msrc\u001b[0m\u001b[0;34m,\u001b[0m \u001b[0;34m**\u001b[0m\u001b[0mkwds\u001b[0m\u001b[0;34m)\u001b[0m\u001b[0;34m\u001b[0m\u001b[0;34m\u001b[0m\u001b[0m\n\u001b[0m\u001b[1;32m   1918\u001b[0m         \u001b[0mself\u001b[0m\u001b[0;34m.\u001b[0m\u001b[0munnamed_cols\u001b[0m \u001b[0;34m=\u001b[0m \u001b[0mself\u001b[0m\u001b[0;34m.\u001b[0m\u001b[0m_reader\u001b[0m\u001b[0;34m.\u001b[0m\u001b[0munnamed_cols\u001b[0m\u001b[0;34m\u001b[0m\u001b[0;34m\u001b[0m\u001b[0m\n\u001b[1;32m   1919\u001b[0m \u001b[0;34m\u001b[0m\u001b[0m\n",
      "\u001b[0;32mpandas/_libs/parsers.pyx\u001b[0m in \u001b[0;36mpandas._libs.parsers.TextReader.__cinit__\u001b[0;34m()\u001b[0m\n",
      "\u001b[0;32mpandas/_libs/parsers.pyx\u001b[0m in \u001b[0;36mpandas._libs.parsers.TextReader._setup_parser_source\u001b[0;34m()\u001b[0m\n",
      "\u001b[0;31mFileNotFoundError\u001b[0m: [Errno 2] File b'../data_loading/mindreader/ratings.csv' does not exist: b'../data_loading/mindreader/ratings.csv'"
     ],
     "ename": "FileNotFoundError",
     "evalue": "[Errno 2] File b'../data_loading/mindreader/ratings.csv' does not exist: b'../data_loading/mindreader/ratings.csv'",
     "output_type": "error"
    }
   ],
   "source": [
    "base_path = 'data'\n",
    "mindreader = f'../data_loading/mindreader/ratings.csv'\n",
    "\n",
    "ratings = pd.read_csv(mindreader)\n",
    "\n",
    "ratings = ratings[ratings.uri.str.startswith('Decade-') != True]\n",
    "#ratings = ratings[ratings.sentiment != 0]\n",
    "print(len(ratings))\n",
    "print(len(ratings[ratings.isItem == True][['userId', 'uri']]))\n",
    "print(len(ratings[ratings.isItem == False][['userId', 'uri']]))"
   ],
   "metadata": {
    "collapsed": false,
    "pycharm": {
     "name": "#%%\n",
     "is_executing": false
    }
   }
  },
  {
   "cell_type": "code",
   "execution_count": null,
   "outputs": [],
   "source": [
    "ratings = pd.read_csv(mindreader)\n",
    "\n",
    "ratings = ratings[ratings.sentiment != 0]\n",
    "fig, axes = plt.subplots(nrows=1)\n",
    "dftmp = ratings[['userId', 'uri']].groupby('uri')['uri'].agg(uri_count='count')\n",
    "dftmp = dftmp[dftmp.values > 2]\n",
    "\n",
    "dftmp_m = ratings[ratings.isItem == True][['userId', 'uri']].groupby('uri')['uri'].agg(uri_count='count')\n",
    "dftmp_e = ratings[ratings.isItem == False][['userId', 'uri']].groupby('uri')['uri'].agg(uri_count='count')\n",
    "# dftmp_m = dftmp_m[dftmp_m.values > 2]\n",
    "# dftmp_e = dftmp_e[dftmp_e.values > 2]\n",
    "\n",
    "\n",
    "#dftmp.sort_values('uri_count', ascending=False).uri_count.plot.hist(bins=667, ax=axes[0])\n",
    "dftmp_m.sort_values('uri_count').uri_count.plot.line(ax=axes)\n",
    "dftmp_e.sort_values('uri_count').uri_count.plot.line(ax=axes)\n",
    "\n",
    "axes.set_xlabel('Ordered entity index')\n",
    "axes.set_ylabel('Number of ratings')\n",
    "\n",
    "axes.grid(True, 'major', 'both')\n",
    "\n",
    "axes.xaxis.set_major_locator(MultipleLocator(400))\n",
    "axes.xaxis.set_major_formatter(FormatStrFormatter('%d'))\n",
    "axes.xaxis.set_minor_locator(MultipleLocator(200))\n",
    "\n",
    "axes.yaxis.set_major_locator(MultipleLocator(50))\n",
    "axes.yaxis.set_major_formatter(FormatStrFormatter('%d'))\n",
    "axes.yaxis.set_minor_locator(MultipleLocator(25))\n",
    "\n",
    "handles, labels = axes.get_legend_handles_labels()\n",
    "axes.legend(handles, ['Items', 'Descriptive entites'])\n",
    "\n",
    "plt.title('All entities and their ratings ordered')\n",
    "\n",
    "plt.savefig('num_ratings.pdf')\n",
    "plt.show()\n",
    "\n",
    "del fig, axes, dftmp, dftmp_e, dftmp_m"
   ],
   "metadata": {
    "collapsed": false,
    "pycharm": {
     "name": "#%%\n",
     "is_executing": false
    }
   }
  },
  {
   "cell_type": "code",
   "execution_count": null,
   "outputs": [],
   "source": [
    "ratings2 = ratings[ratings.sentiment != 0]\n",
    "\n",
    "dftmp = ratings2[['userId', 'uri']].groupby('userId')['userId'].agg(uri_count='count')\n",
    "dftmp1 = dftmp[dftmp.values >= 15]\n",
    "dftmp2 = dftmp[dftmp.values >= 16]\n",
    "dftmp3 = dftmp[dftmp.values < 15]\n",
    "\n",
    "dftmp1.transpose().count().plot.hist()\n",
    "dftmp2.transpose().count().transpose().plot.hist()\n",
    "dftmp3.transpose().count().transpose().plot.hist()\n",
    "\n",
    "plt.show()\n",
    "del dftmp, dftmp1, dftmp2, dftmp3, ratings2"
   ],
   "metadata": {
    "collapsed": false,
    "pycharm": {
     "name": "#%%\n",
     "is_executing": false
    }
   }
  },
  {
   "cell_type": "code",
   "execution_count": 27,
   "outputs": [
    {
     "name": "stdout",
     "text": [
      "         m_count\n",
      "movieId         \n",
      "318          274\n",
      "356          249\n",
      "296          244\n",
      "593          225\n",
      "2571         222\n",
      "260          201\n",
      "2959         179\n",
      "527          175\n",
      "1196         168\n",
      "110          166\n",
      "1198         163\n",
      "50           163\n",
      "858          158\n",
      "2858         152\n",
      "1210         150\n",
      "589          150\n",
      "1            147\n",
      "4993         146\n",
      "480          145\n",
      "2028         141\n",
      "47           140\n",
      "7153         140\n",
      "608          137\n",
      "457          137\n",
      "5952         131\n",
      "150          127\n",
      "2762         125\n",
      "4226         122\n",
      "1270         121\n",
      "32           118\n",
      "3578         117\n",
      "364          115\n",
      "4306         114\n",
      "588          113\n",
      "58559        112\n",
      "1214         110\n",
      "1197         109\n",
      "1193         108\n",
      "79132        107\n",
      "1221         107\n",
      "1089         106\n",
      "1291         105\n",
      "7361         105\n",
      "2329         104\n",
      "1704         103\n",
      "590          103\n",
      "1213         103\n",
      "1136         101\n",
      "1036          99\n",
      "1265          97\n"
     ],
     "output_type": "stream"
    },
    {
     "data": {
      "text/plain": "<Figure size 432x288 with 1 Axes>",
      "image/png": "[encoded data removed]"
     },
     "metadata": {
      "needs_background": "light"
     },
     "output_type": "display_data"
    }
   ],
   "source": [
    "import pandas as pd\n",
    "ratings = pd.read_csv('../data/ratings.csv')\n",
    "\n",
    "k = 50    \n",
    "ratings2 = ratings[ratings.sentiment == 1]\n",
    "ratings2 = ratings2[ratings2.isItem]\n",
    "\n",
    "num_users = ratings2['userId'].nunique()\n",
    "\n",
    "df_count = ratings2[['userId', 'uri']].groupby('uri')['uri']\\\n",
    "              .agg(uri_count='count').sort_values('uri_count', ascending=False)[:k]\n",
    "\n",
    "df_count.reset_index(inplace=True) \n",
    "df_count.reset_index(inplace=True)\n",
    "df_user = ratings2[['userId', 'uri']].groupby('userId').apply(pd.DataFrame.sample, n=1)\n",
    "#df_user = ratings2[['userId', 'uri']]\n",
    "\n",
    "user_percentage =[]\n",
    "\n",
    "for i in range(k):\n",
    "    df_count_k = df_count[df_count.index <= i]\n",
    "    df_join = pd.merge(left=df_user, right=df_count_k, left_on='uri', right_on='uri')\n",
    "    n_u = df_join['userId'].nunique()\n",
    "    \n",
    "    user_percentage.append(n_u / num_users)\n",
    "\n",
    "step = 2\n",
    "\n",
    "fig, ax = plt.subplots()\n",
    "ax.plot(np.arange(1, k+1), user_percentage)\n",
    "# ax.grid(True, 'major', 'both')\n",
    "# \n",
    "# ax.xaxis.set_major_locator(MultipleLocator(10))\n",
    "# ax.xaxis.set_major_formatter(FormatStrFormatter('%d'))\n",
    "# ax.xaxis.set_minor_locator(MultipleLocator(5))\n",
    "# \n",
    "# plt.ylabel('Percentage users rated at least one movie in top n')\n",
    "# plt.xlabel('Top n')\n",
    "\n",
    "# plt.savefig('percentage.pdf')\n",
    "# plt.show()\n",
    "# \n",
    "# del fig, ax, ratings2, num_users, df_count, df_user\n",
    "\n",
    "ratings = pd.read_csv(f'../data/ratings_movielens.csv')\n",
    "\n",
    "ratings2 = ratings[ratings.rating > 3.5]\n",
    "\n",
    "num_users = ratings2['userId'].nunique()\n",
    "\n",
    "df_count = ratings2[['userId', 'movieId']].groupby('movieId')['movieId']\\\n",
    "              .agg(m_count='count').sort_values('m_count', ascending=False)[:k]\n",
    "\n",
    "print(df_count)\n",
    "df_count.reset_index(inplace=True)\n",
    "\n",
    "#df_user = ratings2[['userId', 'movieId']]\n",
    "df_user = ratings2[['userId', 'movieId']].groupby('userId').apply(pd.DataFrame.sample, n=1)\n",
    "\n",
    "\n",
    "user_percentage =[]\n",
    "\n",
    "for i in range(k):\n",
    "    df_count_k = df_count[df_count.index <= i]\n",
    "    df_join = pd.merge(left=df_user, right=df_count_k, left_on='movieId', right_on='movieId')\n",
    "    n_u = df_join['userId'].nunique()\n",
    "    \n",
    "    user_percentage.append(n_u / num_users)\n",
    "\n",
    "ax.plot(np.arange(1, k+1), user_percentage)\n",
    "\n",
    "ax.legend(['BIN (RE)', 'ML'])\n",
    "plt.ylabel('Probability of random item in top-N')\n",
    "plt.xlabel('Top-N popular items')\n",
    "\n",
    "plt.grid()\n",
    "plt.savefig('hit_ratio.pdf', bbox_inches='tight')\n",
    "plt.show()\n",
    "\n",
    "del fig, ax, ratings2, num_users, df_count, df_user"
   ],
   "metadata": {
    "collapsed": false,
    "pycharm": {
     "name": "#%%\n",
     "is_executing": false
    }
   }
  }
 ],
 "metadata": {
  "kernelspec": {
   "display_name": "Python 3",
   "language": "python",
   "name": "python3"
  },
  "language_info": {
   "codemirror_mode": {
    "name": "ipython",
    "version": 2
   },
   "file_extension": ".py",
   "mimetype": "text/x-python",
   "name": "python",
   "nbconvert_exporter": "python",
   "pygments_lexer": "ipython2",
   "version": "2.7.6"
  },
  "pycharm": {
   "stem_cell": {
    "cell_type": "raw",
    "source": [],
    "metadata": {
     "collapsed": false
    }
   }
  }
 },
 "nbformat": 4,
 "nbformat_minor": 0
}